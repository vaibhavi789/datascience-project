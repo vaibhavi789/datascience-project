{
 "cells": [
  {
   "cell_type": "code",
   "execution_count": 1,
   "metadata": {},
   "outputs": [],
   "source": [
    "import numpy as np\n",
    "import pandas as pd\n",
    "\n",
    "import matplotlib.pyplot as plt\n",
    "import seaborn as sns"
   ]
  },
  {
   "cell_type": "code",
   "execution_count": 2,
   "metadata": {},
   "outputs": [],
   "source": [
    "data = pd.read_excel(\"storedata.csv\")"
   ]
  },
  {
   "cell_type": "code",
   "execution_count": 3,
   "metadata": {},
   "outputs": [
    {
     "data": {
      "text/html": [
       "<div>\n",
       "<style scoped>\n",
       "    .dataframe tbody tr th:only-of-type {\n",
       "        vertical-align: middle;\n",
       "    }\n",
       "\n",
       "    .dataframe tbody tr th {\n",
       "        vertical-align: top;\n",
       "    }\n",
       "\n",
       "    .dataframe thead th {\n",
       "        text-align: right;\n",
       "    }\n",
       "</style>\n",
       "<table border=\"1\" class=\"dataframe\">\n",
       "  <thead>\n",
       "    <tr style=\"text-align: right;\">\n",
       "      <th></th>\n",
       "      <th>Town</th>\n",
       "      <th>Country</th>\n",
       "      <th>Store ID</th>\n",
       "      <th>Manager name</th>\n",
       "      <th>Staff</th>\n",
       "      <th>Floor Space</th>\n",
       "      <th>Window</th>\n",
       "      <th>Car park</th>\n",
       "      <th>Demographic score</th>\n",
       "      <th>Location</th>\n",
       "      <th>40min population</th>\n",
       "      <th>30 min population</th>\n",
       "      <th>20 min population</th>\n",
       "      <th>10 min population</th>\n",
       "      <th>Store age</th>\n",
       "      <th>Clearance space</th>\n",
       "      <th>Competition number</th>\n",
       "      <th>Competition score</th>\n",
       "      <th>Performance</th>\n",
       "    </tr>\n",
       "  </thead>\n",
       "  <tbody>\n",
       "    <tr>\n",
       "      <td>0</td>\n",
       "      <td>Swinton (Greater Manchester)</td>\n",
       "      <td>UK</td>\n",
       "      <td>1437</td>\n",
       "      <td>Roger</td>\n",
       "      <td>9</td>\n",
       "      <td>18526</td>\n",
       "      <td>121</td>\n",
       "      <td>Yes</td>\n",
       "      <td>10</td>\n",
       "      <td>Retail Park</td>\n",
       "      <td>1288374</td>\n",
       "      <td>1138224</td>\n",
       "      <td>1006986</td>\n",
       "      <td>1002340</td>\n",
       "      <td>3</td>\n",
       "      <td>238</td>\n",
       "      <td>16</td>\n",
       "      <td>16</td>\n",
       "      <td>Good</td>\n",
       "    </tr>\n",
       "    <tr>\n",
       "      <td>1</td>\n",
       "      <td>Stamford</td>\n",
       "      <td>UK</td>\n",
       "      <td>1544</td>\n",
       "      <td>Ella</td>\n",
       "      <td>8</td>\n",
       "      <td>18569</td>\n",
       "      <td>121</td>\n",
       "      <td>Yes</td>\n",
       "      <td>11</td>\n",
       "      <td>Shopping Centre</td>\n",
       "      <td>1086225</td>\n",
       "      <td>1015321</td>\n",
       "      <td>1012182</td>\n",
       "      <td>1008436</td>\n",
       "      <td>4</td>\n",
       "      <td>384</td>\n",
       "      <td>15</td>\n",
       "      <td>19</td>\n",
       "      <td>Good</td>\n",
       "    </tr>\n",
       "    <tr>\n",
       "      <td>2</td>\n",
       "      <td>Skipton</td>\n",
       "      <td>UK</td>\n",
       "      <td>2039</td>\n",
       "      <td>Valentina</td>\n",
       "      <td>-2</td>\n",
       "      <td>12288</td>\n",
       "      <td>105</td>\n",
       "      <td>No</td>\n",
       "      <td>12</td>\n",
       "      <td>Retail Park</td>\n",
       "      <td>1595638</td>\n",
       "      <td>1281661</td>\n",
       "      <td>1104490</td>\n",
       "      <td>1011395</td>\n",
       "      <td>11</td>\n",
       "      <td>219</td>\n",
       "      <td>13</td>\n",
       "      <td>18</td>\n",
       "      <td>Bad</td>\n",
       "    </tr>\n",
       "    <tr>\n",
       "      <td>3</td>\n",
       "      <td>Stratton</td>\n",
       "      <td>UK</td>\n",
       "      <td>2055</td>\n",
       "      <td>Antonia</td>\n",
       "      <td>7</td>\n",
       "      <td>17092</td>\n",
       "      <td>117</td>\n",
       "      <td>No</td>\n",
       "      <td>14</td>\n",
       "      <td>High Street</td>\n",
       "      <td>1179395</td>\n",
       "      <td>1022959</td>\n",
       "      <td>1009496</td>\n",
       "      <td>1002169</td>\n",
       "      <td>5</td>\n",
       "      <td>261</td>\n",
       "      <td>15</td>\n",
       "      <td>12</td>\n",
       "      <td>Bad</td>\n",
       "    </tr>\n",
       "    <tr>\n",
       "      <td>4</td>\n",
       "      <td>Shepperton</td>\n",
       "      <td>UK</td>\n",
       "      <td>2141</td>\n",
       "      <td>Gabriel</td>\n",
       "      <td>7</td>\n",
       "      <td>11307</td>\n",
       "      <td>103</td>\n",
       "      <td>No</td>\n",
       "      <td>18</td>\n",
       "      <td>Retail Park</td>\n",
       "      <td>1398558</td>\n",
       "      <td>1085170</td>\n",
       "      <td>1003137</td>\n",
       "      <td>1002513</td>\n",
       "      <td>7</td>\n",
       "      <td>200</td>\n",
       "      <td>19</td>\n",
       "      <td>13</td>\n",
       "      <td>Bad</td>\n",
       "    </tr>\n",
       "  </tbody>\n",
       "</table>\n",
       "</div>"
      ],
      "text/plain": [
       "                            Town Country  Store ID Manager name  Staff  \\\n",
       "0   Swinton (Greater Manchester)      UK      1437        Roger      9   \n",
       "1                       Stamford      UK      1544         Ella      8   \n",
       "2                        Skipton      UK      2039    Valentina     -2   \n",
       "3                       Stratton      UK      2055      Antonia      7   \n",
       "4                     Shepperton      UK      2141      Gabriel      7   \n",
       "\n",
       "   Floor Space  Window Car park  Demographic score         Location  \\\n",
       "0        18526     121      Yes                 10      Retail Park   \n",
       "1        18569     121      Yes                 11  Shopping Centre   \n",
       "2        12288     105       No                 12      Retail Park   \n",
       "3        17092     117       No                 14      High Street   \n",
       "4        11307     103       No                 18      Retail Park   \n",
       "\n",
       "   40min population  30 min population  20 min population  10 min population  \\\n",
       "0           1288374            1138224            1006986            1002340   \n",
       "1           1086225            1015321            1012182            1008436   \n",
       "2           1595638            1281661            1104490            1011395   \n",
       "3           1179395            1022959            1009496            1002169   \n",
       "4           1398558            1085170            1003137            1002513   \n",
       "\n",
       "   Store age  Clearance space  Competition number  Competition score  \\\n",
       "0          3              238                  16                 16   \n",
       "1          4              384                  15                 19   \n",
       "2         11              219                  13                 18   \n",
       "3          5              261                  15                 12   \n",
       "4          7              200                  19                 13   \n",
       "\n",
       "  Performance  \n",
       "0        Good  \n",
       "1        Good  \n",
       "2         Bad  \n",
       "3         Bad  \n",
       "4         Bad  "
      ]
     },
     "execution_count": 3,
     "metadata": {},
     "output_type": "execute_result"
    }
   ],
   "source": [
    "data.head()"
   ]
  },
  {
   "cell_type": "code",
   "execution_count": 4,
   "metadata": {},
   "outputs": [
    {
     "data": {
      "text/plain": [
       "(136, 19)"
      ]
     },
     "execution_count": 4,
     "metadata": {},
     "output_type": "execute_result"
    }
   ],
   "source": [
    "data.shape"
   ]
  },
  {
   "cell_type": "code",
   "execution_count": 5,
   "metadata": {},
   "outputs": [
    {
     "name": "stdout",
     "output_type": "stream",
     "text": [
      "<class 'pandas.core.frame.DataFrame'>\n",
      "RangeIndex: 136 entries, 0 to 135\n",
      "Data columns (total 19 columns):\n",
      "Town                  136 non-null object\n",
      "Country               136 non-null object\n",
      "Store ID              136 non-null int64\n",
      "Manager name          136 non-null object\n",
      "Staff                 136 non-null int64\n",
      "Floor Space           136 non-null int64\n",
      "Window                136 non-null int64\n",
      "Car park              136 non-null object\n",
      "Demographic score     136 non-null int64\n",
      "Location              136 non-null object\n",
      "40min population      136 non-null int64\n",
      "30 min population     136 non-null int64\n",
      "20 min population     136 non-null int64\n",
      "10 min population     136 non-null int64\n",
      "Store age             136 non-null int64\n",
      "Clearance space       136 non-null int64\n",
      "Competition number    136 non-null int64\n",
      "Competition score     136 non-null int64\n",
      "Performance           136 non-null object\n",
      "dtypes: int64(13), object(6)\n",
      "memory usage: 20.3+ KB\n"
     ]
    }
   ],
   "source": [
    "data.info()"
   ]
  },
  {
   "cell_type": "markdown",
   "metadata": {},
   "source": [
    "## Exploratory Data Analysis"
   ]
  },
  {
   "cell_type": "code",
   "execution_count": 6,
   "metadata": {},
   "outputs": [
    {
     "data": {
      "text/plain": [
       "Good    69\n",
       "Bad     67\n",
       "Name: Performance, dtype: int64"
      ]
     },
     "execution_count": 6,
     "metadata": {},
     "output_type": "execute_result"
    }
   ],
   "source": [
    "data['Performance'].value_counts()"
   ]
  },
  {
   "cell_type": "code",
   "execution_count": 8,
   "metadata": {},
   "outputs": [
    {
     "data": {
      "image/png": "[encoded data removed]",
      "text/plain": [
       "<Figure size 432x288 with 1 Axes>"
      ]
     },
     "metadata": {},
     "output_type": "display_data"
    }
   ],
   "source": [
    "plt.pie(data['Performance'].value_counts(), labels = ['Good', 'Bad'], autopct='%.1f%%')\n",
    "plt.legend()\n",
    "plt.show()"
   ]
  },
  {
   "cell_type": "code",
   "execution_count": 9,
   "metadata": {},
   "outputs": [
    {
     "data": {
      "text/plain": [
       "Yes    94\n",
       "No     35\n",
       "Y       4\n",
       "N       3\n",
       "Name: Car park, dtype: int64"
      ]
     },
     "execution_count": 9,
     "metadata": {},
     "output_type": "execute_result"
    }
   ],
   "source": [
    "data['Car park'].value_counts()"
   ]
  },
  {
   "cell_type": "code",
   "execution_count": 12,
   "metadata": {},
   "outputs": [
    {
     "data": {
      "text/plain": [
       "<matplotlib.axes._subplots.AxesSubplot at 0x139e1012e48>"
      ]
     },
     "execution_count": 12,
     "metadata": {},
     "output_type": "execute_result"
    },
    {
     "data": {
      "image/png": "[encoded data removed]",
      "text/plain": [
       "<Figure size 432x288 with 1 Axes>"
      ]
     },
     "metadata": {
      "needs_background": "light"
     },
     "output_type": "display_data"
    }
   ],
   "source": [
    "sns.countplot(x = 'Car park', hue = 'Performance', data = data)"
   ]
  },
  {
   "cell_type": "code",
   "execution_count": 13,
   "metadata": {},
   "outputs": [
    {
     "data": {
      "text/plain": [
       "<matplotlib.axes._subplots.AxesSubplot at 0x139e1896f08>"
      ]
     },
     "execution_count": 13,
     "metadata": {},
     "output_type": "execute_result"
    },
    {
     "data": {
      "image/png": "[encoded data removed]",
      "text/plain": [
       "<Figure size 432x288 with 1 Axes>"
      ]
     },
     "metadata": {
      "needs_background": "light"
     },
     "output_type": "display_data"
    }
   ],
   "source": [
    "sns.countplot(x = 'Location', hue = 'Performance', data = data)"
   ]
  },
  {
   "cell_type": "code",
   "execution_count": 14,
   "metadata": {},
   "outputs": [
    {
     "data": {
      "text/plain": [
       "Index(['Town', 'Country', 'Store ID', 'Manager name', 'Staff', 'Floor Space',\n",
       "       'Window', 'Car park', 'Demographic score', 'Location',\n",
       "       '40min population', '30 min population', '20 min population',\n",
       "       '10 min population', 'Store age', 'Clearance space',\n",
       "       'Competition number', 'Competition score', 'Performance'],\n",
       "      dtype='object')"
      ]
     },
     "execution_count": 14,
     "metadata": {},
     "output_type": "execute_result"
    }
   ],
   "source": [
    "data.columns"
   ]
  },
  {
   "cell_type": "code",
   "execution_count": 17,
   "metadata": {},
   "outputs": [],
   "source": [
    "num_data = data[['Staff', 'Floor Space', 'Window', 'Demographic score', '40min population', '30 min population', '20 min population',\n",
    "       '10 min population', 'Store age', 'Clearance space', 'Competition number', 'Competition score']]"
   ]
  },
  {
   "cell_type": "code",
   "execution_count": 18,
   "metadata": {},
   "outputs": [
    {
     "data": {
      "image/png": "[encoded data removed]",
      "text/plain": [
       "<Figure size 864x648 with 2 Axes>"
      ]
     },
     "metadata": {
      "needs_background": "light"
     },
     "output_type": "display_data"
    }
   ],
   "source": [
    "plt.figure(figsize = (12, 9))\n",
    "\n",
    "cor = num_data.corr()\n",
    "sns.heatmap(cor, annot = True)\n",
    "plt.show()"
   ]
  },
  {
   "cell_type": "code",
   "execution_count": 19,
   "metadata": {},
   "outputs": [
    {
     "data": {
      "text/html": [
       "<div>\n",
       "<style scoped>\n",
       "    .dataframe tbody tr th:only-of-type {\n",
       "        vertical-align: middle;\n",
       "    }\n",
       "\n",
       "    .dataframe tbody tr th {\n",
       "        vertical-align: top;\n",
       "    }\n",
       "\n",
       "    .dataframe thead th {\n",
       "        text-align: right;\n",
       "    }\n",
       "</style>\n",
       "<table border=\"1\" class=\"dataframe\">\n",
       "  <thead>\n",
       "    <tr style=\"text-align: right;\">\n",
       "      <th></th>\n",
       "      <th>Staff</th>\n",
       "      <th>Floor Space</th>\n",
       "      <th>Window</th>\n",
       "      <th>Demographic score</th>\n",
       "      <th>40min population</th>\n",
       "      <th>30 min population</th>\n",
       "      <th>20 min population</th>\n",
       "      <th>10 min population</th>\n",
       "      <th>Store age</th>\n",
       "      <th>Clearance space</th>\n",
       "      <th>Competition number</th>\n",
       "      <th>Competition score</th>\n",
       "    </tr>\n",
       "  </thead>\n",
       "  <tbody>\n",
       "    <tr>\n",
       "      <td>Staff</td>\n",
       "      <td>1.000000</td>\n",
       "      <td>0.076039</td>\n",
       "      <td>0.077630</td>\n",
       "      <td>-0.057831</td>\n",
       "      <td>-0.098366</td>\n",
       "      <td>-0.024631</td>\n",
       "      <td>-0.056310</td>\n",
       "      <td>-0.006601</td>\n",
       "      <td>-0.172655</td>\n",
       "      <td>0.110591</td>\n",
       "      <td>0.034571</td>\n",
       "      <td>0.123579</td>\n",
       "    </tr>\n",
       "    <tr>\n",
       "      <td>Floor Space</td>\n",
       "      <td>0.076039</td>\n",
       "      <td>1.000000</td>\n",
       "      <td>0.999208</td>\n",
       "      <td>0.038187</td>\n",
       "      <td>0.051918</td>\n",
       "      <td>-0.032199</td>\n",
       "      <td>-0.046161</td>\n",
       "      <td>-0.096698</td>\n",
       "      <td>-0.049285</td>\n",
       "      <td>0.627324</td>\n",
       "      <td>0.073559</td>\n",
       "      <td>0.091447</td>\n",
       "    </tr>\n",
       "    <tr>\n",
       "      <td>Window</td>\n",
       "      <td>0.077630</td>\n",
       "      <td>0.999208</td>\n",
       "      <td>1.000000</td>\n",
       "      <td>0.038633</td>\n",
       "      <td>0.053228</td>\n",
       "      <td>-0.028688</td>\n",
       "      <td>-0.042441</td>\n",
       "      <td>-0.091651</td>\n",
       "      <td>-0.048992</td>\n",
       "      <td>0.628509</td>\n",
       "      <td>0.074034</td>\n",
       "      <td>0.104551</td>\n",
       "    </tr>\n",
       "    <tr>\n",
       "      <td>Demographic score</td>\n",
       "      <td>-0.057831</td>\n",
       "      <td>0.038187</td>\n",
       "      <td>0.038633</td>\n",
       "      <td>1.000000</td>\n",
       "      <td>0.036694</td>\n",
       "      <td>-0.007616</td>\n",
       "      <td>0.053498</td>\n",
       "      <td>0.099587</td>\n",
       "      <td>-0.014967</td>\n",
       "      <td>0.041849</td>\n",
       "      <td>-0.100716</td>\n",
       "      <td>-0.072325</td>\n",
       "    </tr>\n",
       "    <tr>\n",
       "      <td>40min population</td>\n",
       "      <td>-0.098366</td>\n",
       "      <td>0.051918</td>\n",
       "      <td>0.053228</td>\n",
       "      <td>0.036694</td>\n",
       "      <td>1.000000</td>\n",
       "      <td>0.624732</td>\n",
       "      <td>0.516682</td>\n",
       "      <td>0.432857</td>\n",
       "      <td>-0.191329</td>\n",
       "      <td>-0.018234</td>\n",
       "      <td>-0.004326</td>\n",
       "      <td>0.040554</td>\n",
       "    </tr>\n",
       "    <tr>\n",
       "      <td>30 min population</td>\n",
       "      <td>-0.024631</td>\n",
       "      <td>-0.032199</td>\n",
       "      <td>-0.028688</td>\n",
       "      <td>-0.007616</td>\n",
       "      <td>0.624732</td>\n",
       "      <td>1.000000</td>\n",
       "      <td>0.766158</td>\n",
       "      <td>0.667031</td>\n",
       "      <td>-0.098829</td>\n",
       "      <td>-0.093048</td>\n",
       "      <td>-0.054191</td>\n",
       "      <td>0.046811</td>\n",
       "    </tr>\n",
       "    <tr>\n",
       "      <td>20 min population</td>\n",
       "      <td>-0.056310</td>\n",
       "      <td>-0.046161</td>\n",
       "      <td>-0.042441</td>\n",
       "      <td>0.053498</td>\n",
       "      <td>0.516682</td>\n",
       "      <td>0.766158</td>\n",
       "      <td>1.000000</td>\n",
       "      <td>0.807882</td>\n",
       "      <td>-0.046910</td>\n",
       "      <td>-0.085887</td>\n",
       "      <td>-0.081947</td>\n",
       "      <td>0.008492</td>\n",
       "    </tr>\n",
       "    <tr>\n",
       "      <td>10 min population</td>\n",
       "      <td>-0.006601</td>\n",
       "      <td>-0.096698</td>\n",
       "      <td>-0.091651</td>\n",
       "      <td>0.099587</td>\n",
       "      <td>0.432857</td>\n",
       "      <td>0.667031</td>\n",
       "      <td>0.807882</td>\n",
       "      <td>1.000000</td>\n",
       "      <td>-0.103815</td>\n",
       "      <td>-0.053129</td>\n",
       "      <td>-0.039108</td>\n",
       "      <td>0.068781</td>\n",
       "    </tr>\n",
       "    <tr>\n",
       "      <td>Store age</td>\n",
       "      <td>-0.172655</td>\n",
       "      <td>-0.049285</td>\n",
       "      <td>-0.048992</td>\n",
       "      <td>-0.014967</td>\n",
       "      <td>-0.191329</td>\n",
       "      <td>-0.098829</td>\n",
       "      <td>-0.046910</td>\n",
       "      <td>-0.103815</td>\n",
       "      <td>1.000000</td>\n",
       "      <td>-0.037935</td>\n",
       "      <td>-0.063024</td>\n",
       "      <td>-0.109725</td>\n",
       "    </tr>\n",
       "    <tr>\n",
       "      <td>Clearance space</td>\n",
       "      <td>0.110591</td>\n",
       "      <td>0.627324</td>\n",
       "      <td>0.628509</td>\n",
       "      <td>0.041849</td>\n",
       "      <td>-0.018234</td>\n",
       "      <td>-0.093048</td>\n",
       "      <td>-0.085887</td>\n",
       "      <td>-0.053129</td>\n",
       "      <td>-0.037935</td>\n",
       "      <td>1.000000</td>\n",
       "      <td>0.047191</td>\n",
       "      <td>0.156431</td>\n",
       "    </tr>\n",
       "    <tr>\n",
       "      <td>Competition number</td>\n",
       "      <td>0.034571</td>\n",
       "      <td>0.073559</td>\n",
       "      <td>0.074034</td>\n",
       "      <td>-0.100716</td>\n",
       "      <td>-0.004326</td>\n",
       "      <td>-0.054191</td>\n",
       "      <td>-0.081947</td>\n",
       "      <td>-0.039108</td>\n",
       "      <td>-0.063024</td>\n",
       "      <td>0.047191</td>\n",
       "      <td>1.000000</td>\n",
       "      <td>-0.011215</td>\n",
       "    </tr>\n",
       "    <tr>\n",
       "      <td>Competition score</td>\n",
       "      <td>0.123579</td>\n",
       "      <td>0.091447</td>\n",
       "      <td>0.104551</td>\n",
       "      <td>-0.072325</td>\n",
       "      <td>0.040554</td>\n",
       "      <td>0.046811</td>\n",
       "      <td>0.008492</td>\n",
       "      <td>0.068781</td>\n",
       "      <td>-0.109725</td>\n",
       "      <td>0.156431</td>\n",
       "      <td>-0.011215</td>\n",
       "      <td>1.000000</td>\n",
       "    </tr>\n",
       "  </tbody>\n",
       "</table>\n",
       "</div>"
      ],
      "text/plain": [
       "                       Staff  Floor Space    Window  Demographic score  \\\n",
       "Staff               1.000000     0.076039  0.077630          -0.057831   \n",
       "Floor Space         0.076039     1.000000  0.999208           0.038187   \n",
       "Window              0.077630     0.999208  1.000000           0.038633   \n",
       "Demographic score  -0.057831     0.038187  0.038633           1.000000   \n",
       "40min population   -0.098366     0.051918  0.053228           0.036694   \n",
       "30 min population  -0.024631    -0.032199 -0.028688          -0.007616   \n",
       "20 min population  -0.056310    -0.046161 -0.042441           0.053498   \n",
       "10 min population  -0.006601    -0.096698 -0.091651           0.099587   \n",
       "Store age          -0.172655    -0.049285 -0.048992          -0.014967   \n",
       "Clearance space     0.110591     0.627324  0.628509           0.041849   \n",
       "Competition number  0.034571     0.073559  0.074034          -0.100716   \n",
       "Competition score   0.123579     0.091447  0.104551          -0.072325   \n",
       "\n",
       "                    40min population  30 min population  20 min population  \\\n",
       "Staff                      -0.098366          -0.024631          -0.056310   \n",
       "Floor Space                 0.051918          -0.032199          -0.046161   \n",
       "Window                      0.053228          -0.028688          -0.042441   \n",
       "Demographic score           0.036694          -0.007616           0.053498   \n",
       "40min population            1.000000           0.624732           0.516682   \n",
       "30 min population           0.624732           1.000000           0.766158   \n",
       "20 min population           0.516682           0.766158           1.000000   \n",
       "10 min population           0.432857           0.667031           0.807882   \n",
       "Store age                  -0.191329          -0.098829          -0.046910   \n",
       "Clearance space            -0.018234          -0.093048          -0.085887   \n",
       "Competition number         -0.004326          -0.054191          -0.081947   \n",
       "Competition score           0.040554           0.046811           0.008492   \n",
       "\n",
       "                    10 min population  Store age  Clearance space  \\\n",
       "Staff                       -0.006601  -0.172655         0.110591   \n",
       "Floor Space                 -0.096698  -0.049285         0.627324   \n",
       "Window                      -0.091651  -0.048992         0.628509   \n",
       "Demographic score            0.099587  -0.014967         0.041849   \n",
       "40min population             0.432857  -0.191329        -0.018234   \n",
       "30 min population            0.667031  -0.098829        -0.093048   \n",
       "20 min population            0.807882  -0.046910        -0.085887   \n",
       "10 min population            1.000000  -0.103815        -0.053129   \n",
       "Store age                   -0.103815   1.000000        -0.037935   \n",
       "Clearance space             -0.053129  -0.037935         1.000000   \n",
       "Competition number          -0.039108  -0.063024         0.047191   \n",
       "Competition score            0.068781  -0.109725         0.156431   \n",
       "\n",
       "                    Competition number  Competition score  \n",
       "Staff                         0.034571           0.123579  \n",
       "Floor Space                   0.073559           0.091447  \n",
       "Window                        0.074034           0.104551  \n",
       "Demographic score            -0.100716          -0.072325  \n",
       "40min population             -0.004326           0.040554  \n",
       "30 min population            -0.054191           0.046811  \n",
       "20 min population            -0.081947           0.008492  \n",
       "10 min population            -0.039108           0.068781  \n",
       "Store age                    -0.063024          -0.109725  \n",
       "Clearance space               0.047191           0.156431  \n",
       "Competition number            1.000000          -0.011215  \n",
       "Competition score            -0.011215           1.000000  "
      ]
     },
     "execution_count": 19,
     "metadata": {},
     "output_type": "execute_result"
    }
   ],
   "source": [
    "cor"
   ]
  },
  {
   "cell_type": "code",
   "execution_count": 20,
   "metadata": {},
   "outputs": [],
   "source": [
    "def correlation(data,threshold):\n",
    "    col_corr = set()\n",
    "    corr_matrix = num_data.corr()\n",
    "    for i in range(len(corr_matrix.columns)):\n",
    "        for j in range(i):\n",
    "            if abs(corr_matrix.iloc[i,j]) > threshold:\n",
    "                colname = corr_matrix.columns[i]\n",
    "                col_corr.add(colname)\n",
    "    return col_corr"
   ]
  },
  {
   "cell_type": "code",
   "execution_count": 21,
   "metadata": {},
   "outputs": [
    {
     "data": {
      "text/plain": [
       "{'10 min population', '20 min population', 'Window'}"
      ]
     },
     "execution_count": 21,
     "metadata": {},
     "output_type": "execute_result"
    }
   ],
   "source": [
    "cor_features = correlation(num_data, 0.75)\n",
    "cor_features"
   ]
  },
  {
   "cell_type": "code",
   "execution_count": 22,
   "metadata": {},
   "outputs": [],
   "source": [
    "data.drop(['10 min population', '20 min population', 'Window'], axis = 1, inplace = True)"
   ]
  },
  {
   "cell_type": "code",
   "execution_count": 23,
   "metadata": {},
   "outputs": [
    {
     "data": {
      "text/html": [
       "<div>\n",
       "<style scoped>\n",
       "    .dataframe tbody tr th:only-of-type {\n",
       "        vertical-align: middle;\n",
       "    }\n",
       "\n",
       "    .dataframe tbody tr th {\n",
       "        vertical-align: top;\n",
       "    }\n",
       "\n",
       "    .dataframe thead th {\n",
       "        text-align: right;\n",
       "    }\n",
       "</style>\n",
       "<table border=\"1\" class=\"dataframe\">\n",
       "  <thead>\n",
       "    <tr style=\"text-align: right;\">\n",
       "      <th></th>\n",
       "      <th>Town</th>\n",
       "      <th>Country</th>\n",
       "      <th>Store ID</th>\n",
       "      <th>Manager name</th>\n",
       "      <th>Staff</th>\n",
       "      <th>Floor Space</th>\n",
       "      <th>Car park</th>\n",
       "      <th>Demographic score</th>\n",
       "      <th>Location</th>\n",
       "      <th>40min population</th>\n",
       "      <th>30 min population</th>\n",
       "      <th>Store age</th>\n",
       "      <th>Clearance space</th>\n",
       "      <th>Competition number</th>\n",
       "      <th>Competition score</th>\n",
       "      <th>Performance</th>\n",
       "    </tr>\n",
       "  </thead>\n",
       "  <tbody>\n",
       "    <tr>\n",
       "      <td>0</td>\n",
       "      <td>Swinton (Greater Manchester)</td>\n",
       "      <td>UK</td>\n",
       "      <td>1437</td>\n",
       "      <td>Roger</td>\n",
       "      <td>9</td>\n",
       "      <td>18526</td>\n",
       "      <td>Yes</td>\n",
       "      <td>10</td>\n",
       "      <td>Retail Park</td>\n",
       "      <td>1288374</td>\n",
       "      <td>1138224</td>\n",
       "      <td>3</td>\n",
       "      <td>238</td>\n",
       "      <td>16</td>\n",
       "      <td>16</td>\n",
       "      <td>Good</td>\n",
       "    </tr>\n",
       "    <tr>\n",
       "      <td>1</td>\n",
       "      <td>Stamford</td>\n",
       "      <td>UK</td>\n",
       "      <td>1544</td>\n",
       "      <td>Ella</td>\n",
       "      <td>8</td>\n",
       "      <td>18569</td>\n",
       "      <td>Yes</td>\n",
       "      <td>11</td>\n",
       "      <td>Shopping Centre</td>\n",
       "      <td>1086225</td>\n",
       "      <td>1015321</td>\n",
       "      <td>4</td>\n",
       "      <td>384</td>\n",
       "      <td>15</td>\n",
       "      <td>19</td>\n",
       "      <td>Good</td>\n",
       "    </tr>\n",
       "    <tr>\n",
       "      <td>2</td>\n",
       "      <td>Skipton</td>\n",
       "      <td>UK</td>\n",
       "      <td>2039</td>\n",
       "      <td>Valentina</td>\n",
       "      <td>-2</td>\n",
       "      <td>12288</td>\n",
       "      <td>No</td>\n",
       "      <td>12</td>\n",
       "      <td>Retail Park</td>\n",
       "      <td>1595638</td>\n",
       "      <td>1281661</td>\n",
       "      <td>11</td>\n",
       "      <td>219</td>\n",
       "      <td>13</td>\n",
       "      <td>18</td>\n",
       "      <td>Bad</td>\n",
       "    </tr>\n",
       "    <tr>\n",
       "      <td>3</td>\n",
       "      <td>Stratton</td>\n",
       "      <td>UK</td>\n",
       "      <td>2055</td>\n",
       "      <td>Antonia</td>\n",
       "      <td>7</td>\n",
       "      <td>17092</td>\n",
       "      <td>No</td>\n",
       "      <td>14</td>\n",
       "      <td>High Street</td>\n",
       "      <td>1179395</td>\n",
       "      <td>1022959</td>\n",
       "      <td>5</td>\n",
       "      <td>261</td>\n",
       "      <td>15</td>\n",
       "      <td>12</td>\n",
       "      <td>Bad</td>\n",
       "    </tr>\n",
       "    <tr>\n",
       "      <td>4</td>\n",
       "      <td>Shepperton</td>\n",
       "      <td>UK</td>\n",
       "      <td>2141</td>\n",
       "      <td>Gabriel</td>\n",
       "      <td>7</td>\n",
       "      <td>11307</td>\n",
       "      <td>No</td>\n",
       "      <td>18</td>\n",
       "      <td>Retail Park</td>\n",
       "      <td>1398558</td>\n",
       "      <td>1085170</td>\n",
       "      <td>7</td>\n",
       "      <td>200</td>\n",
       "      <td>19</td>\n",
       "      <td>13</td>\n",
       "      <td>Bad</td>\n",
       "    </tr>\n",
       "  </tbody>\n",
       "</table>\n",
       "</div>"
      ],
      "text/plain": [
       "                            Town Country  Store ID Manager name  Staff  \\\n",
       "0   Swinton (Greater Manchester)      UK      1437        Roger      9   \n",
       "1                       Stamford      UK      1544         Ella      8   \n",
       "2                        Skipton      UK      2039    Valentina     -2   \n",
       "3                       Stratton      UK      2055      Antonia      7   \n",
       "4                     Shepperton      UK      2141      Gabriel      7   \n",
       "\n",
       "   Floor Space Car park  Demographic score         Location  40min population  \\\n",
       "0        18526      Yes                 10      Retail Park           1288374   \n",
       "1        18569      Yes                 11  Shopping Centre           1086225   \n",
       "2        12288       No                 12      Retail Park           1595638   \n",
       "3        17092       No                 14      High Street           1179395   \n",
       "4        11307       No                 18      Retail Park           1398558   \n",
       "\n",
       "   30 min population  Store age  Clearance space  Competition number  \\\n",
       "0            1138224          3              238                  16   \n",
       "1            1015321          4              384                  15   \n",
       "2            1281661         11              219                  13   \n",
       "3            1022959          5              261                  15   \n",
       "4            1085170          7              200                  19   \n",
       "\n",
       "   Competition score Performance  \n",
       "0                 16        Good  \n",
       "1                 19        Good  \n",
       "2                 18         Bad  \n",
       "3                 12         Bad  \n",
       "4                 13         Bad  "
      ]
     },
     "execution_count": 23,
     "metadata": {},
     "output_type": "execute_result"
    }
   ],
   "source": [
    "data.head()"
   ]
  },
  {
   "cell_type": "code",
   "execution_count": 24,
   "metadata": {},
   "outputs": [],
   "source": [
    "data.drop(['Town', 'Country', 'Manager name', 'Store ID'], axis = 1, inplace = True)"
   ]
  },
  {
   "cell_type": "code",
   "execution_count": 25,
   "metadata": {},
   "outputs": [
    {
     "data": {
      "text/html": [
       "<div>\n",
       "<style scoped>\n",
       "    .dataframe tbody tr th:only-of-type {\n",
       "        vertical-align: middle;\n",
       "    }\n",
       "\n",
       "    .dataframe tbody tr th {\n",
       "        vertical-align: top;\n",
       "    }\n",
       "\n",
       "    .dataframe thead th {\n",
       "        text-align: right;\n",
       "    }\n",
       "</style>\n",
       "<table border=\"1\" class=\"dataframe\">\n",
       "  <thead>\n",
       "    <tr style=\"text-align: right;\">\n",
       "      <th></th>\n",
       "      <th>Staff</th>\n",
       "      <th>Floor Space</th>\n",
       "      <th>Car park</th>\n",
       "      <th>Demographic score</th>\n",
       "      <th>Location</th>\n",
       "      <th>40min population</th>\n",
       "      <th>30 min population</th>\n",
       "      <th>Store age</th>\n",
       "      <th>Clearance space</th>\n",
       "      <th>Competition number</th>\n",
       "      <th>Competition score</th>\n",
       "      <th>Performance</th>\n",
       "    </tr>\n",
       "  </thead>\n",
       "  <tbody>\n",
       "    <tr>\n",
       "      <td>0</td>\n",
       "      <td>9</td>\n",
       "      <td>18526</td>\n",
       "      <td>Yes</td>\n",
       "      <td>10</td>\n",
       "      <td>Retail Park</td>\n",
       "      <td>1288374</td>\n",
       "      <td>1138224</td>\n",
       "      <td>3</td>\n",
       "      <td>238</td>\n",
       "      <td>16</td>\n",
       "      <td>16</td>\n",
       "      <td>Good</td>\n",
       "    </tr>\n",
       "    <tr>\n",
       "      <td>1</td>\n",
       "      <td>8</td>\n",
       "      <td>18569</td>\n",
       "      <td>Yes</td>\n",
       "      <td>11</td>\n",
       "      <td>Shopping Centre</td>\n",
       "      <td>1086225</td>\n",
       "      <td>1015321</td>\n",
       "      <td>4</td>\n",
       "      <td>384</td>\n",
       "      <td>15</td>\n",
       "      <td>19</td>\n",
       "      <td>Good</td>\n",
       "    </tr>\n",
       "    <tr>\n",
       "      <td>2</td>\n",
       "      <td>-2</td>\n",
       "      <td>12288</td>\n",
       "      <td>No</td>\n",
       "      <td>12</td>\n",
       "      <td>Retail Park</td>\n",
       "      <td>1595638</td>\n",
       "      <td>1281661</td>\n",
       "      <td>11</td>\n",
       "      <td>219</td>\n",
       "      <td>13</td>\n",
       "      <td>18</td>\n",
       "      <td>Bad</td>\n",
       "    </tr>\n",
       "    <tr>\n",
       "      <td>3</td>\n",
       "      <td>7</td>\n",
       "      <td>17092</td>\n",
       "      <td>No</td>\n",
       "      <td>14</td>\n",
       "      <td>High Street</td>\n",
       "      <td>1179395</td>\n",
       "      <td>1022959</td>\n",
       "      <td>5</td>\n",
       "      <td>261</td>\n",
       "      <td>15</td>\n",
       "      <td>12</td>\n",
       "      <td>Bad</td>\n",
       "    </tr>\n",
       "    <tr>\n",
       "      <td>4</td>\n",
       "      <td>7</td>\n",
       "      <td>11307</td>\n",
       "      <td>No</td>\n",
       "      <td>18</td>\n",
       "      <td>Retail Park</td>\n",
       "      <td>1398558</td>\n",
       "      <td>1085170</td>\n",
       "      <td>7</td>\n",
       "      <td>200</td>\n",
       "      <td>19</td>\n",
       "      <td>13</td>\n",
       "      <td>Bad</td>\n",
       "    </tr>\n",
       "  </tbody>\n",
       "</table>\n",
       "</div>"
      ],
      "text/plain": [
       "   Staff  Floor Space Car park  Demographic score         Location  \\\n",
       "0      9        18526      Yes                 10      Retail Park   \n",
       "1      8        18569      Yes                 11  Shopping Centre   \n",
       "2     -2        12288       No                 12      Retail Park   \n",
       "3      7        17092       No                 14      High Street   \n",
       "4      7        11307       No                 18      Retail Park   \n",
       "\n",
       "   40min population  30 min population  Store age  Clearance space  \\\n",
       "0           1288374            1138224          3              238   \n",
       "1           1086225            1015321          4              384   \n",
       "2           1595638            1281661         11              219   \n",
       "3           1179395            1022959          5              261   \n",
       "4           1398558            1085170          7              200   \n",
       "\n",
       "   Competition number  Competition score Performance  \n",
       "0                  16                 16        Good  \n",
       "1                  15                 19        Good  \n",
       "2                  13                 18         Bad  \n",
       "3                  15                 12         Bad  \n",
       "4                  19                 13         Bad  "
      ]
     },
     "execution_count": 25,
     "metadata": {},
     "output_type": "execute_result"
    }
   ],
   "source": [
    "data.head()"
   ]
  },
  {
   "cell_type": "code",
   "execution_count": 26,
   "metadata": {},
   "outputs": [
    {
     "data": {
      "text/plain": [
       "(136, 12)"
      ]
     },
     "execution_count": 26,
     "metadata": {},
     "output_type": "execute_result"
    }
   ],
   "source": [
    "data.shape"
   ]
  },
  {
   "cell_type": "code",
   "execution_count": 29,
   "metadata": {},
   "outputs": [],
   "source": [
    "data['Car park'] = data['Car park'].replace({\"Y\": \"Yes\", \"N\": \"No\"})"
   ]
  },
  {
   "cell_type": "code",
   "execution_count": 31,
   "metadata": {},
   "outputs": [
    {
     "data": {
      "text/plain": [
       "Index(['Car park', 'Location', 'Performance'], dtype='object')"
      ]
     },
     "execution_count": 31,
     "metadata": {},
     "output_type": "execute_result"
    }
   ],
   "source": [
    "objList = data.select_dtypes(include = 'object').columns\n",
    "objList"
   ]
  },
  {
   "cell_type": "code",
   "execution_count": 32,
   "metadata": {},
   "outputs": [],
   "source": [
    "from sklearn.preprocessing import LabelEncoder\n",
    "le = LabelEncoder()"
   ]
  },
  {
   "cell_type": "code",
   "execution_count": 33,
   "metadata": {},
   "outputs": [],
   "source": [
    "for i in objList:\n",
    "    data[i] = le.fit_transform(data[i])"
   ]
  },
  {
   "cell_type": "code",
   "execution_count": 34,
   "metadata": {},
   "outputs": [
    {
     "data": {
      "text/html": [
       "<div>\n",
       "<style scoped>\n",
       "    .dataframe tbody tr th:only-of-type {\n",
       "        vertical-align: middle;\n",
       "    }\n",
       "\n",
       "    .dataframe tbody tr th {\n",
       "        vertical-align: top;\n",
       "    }\n",
       "\n",
       "    .dataframe thead th {\n",
       "        text-align: right;\n",
       "    }\n",
       "</style>\n",
       "<table border=\"1\" class=\"dataframe\">\n",
       "  <thead>\n",
       "    <tr style=\"text-align: right;\">\n",
       "      <th></th>\n",
       "      <th>Staff</th>\n",
       "      <th>Floor Space</th>\n",
       "      <th>Car park</th>\n",
       "      <th>Demographic score</th>\n",
       "      <th>Location</th>\n",
       "      <th>40min population</th>\n",
       "      <th>30 min population</th>\n",
       "      <th>Store age</th>\n",
       "      <th>Clearance space</th>\n",
       "      <th>Competition number</th>\n",
       "      <th>Competition score</th>\n",
       "      <th>Performance</th>\n",
       "    </tr>\n",
       "  </thead>\n",
       "  <tbody>\n",
       "    <tr>\n",
       "      <td>0</td>\n",
       "      <td>9</td>\n",
       "      <td>18526</td>\n",
       "      <td>1</td>\n",
       "      <td>10</td>\n",
       "      <td>1</td>\n",
       "      <td>1288374</td>\n",
       "      <td>1138224</td>\n",
       "      <td>3</td>\n",
       "      <td>238</td>\n",
       "      <td>16</td>\n",
       "      <td>16</td>\n",
       "      <td>1</td>\n",
       "    </tr>\n",
       "    <tr>\n",
       "      <td>1</td>\n",
       "      <td>8</td>\n",
       "      <td>18569</td>\n",
       "      <td>1</td>\n",
       "      <td>11</td>\n",
       "      <td>2</td>\n",
       "      <td>1086225</td>\n",
       "      <td>1015321</td>\n",
       "      <td>4</td>\n",
       "      <td>384</td>\n",
       "      <td>15</td>\n",
       "      <td>19</td>\n",
       "      <td>1</td>\n",
       "    </tr>\n",
       "    <tr>\n",
       "      <td>2</td>\n",
       "      <td>-2</td>\n",
       "      <td>12288</td>\n",
       "      <td>0</td>\n",
       "      <td>12</td>\n",
       "      <td>1</td>\n",
       "      <td>1595638</td>\n",
       "      <td>1281661</td>\n",
       "      <td>11</td>\n",
       "      <td>219</td>\n",
       "      <td>13</td>\n",
       "      <td>18</td>\n",
       "      <td>0</td>\n",
       "    </tr>\n",
       "    <tr>\n",
       "      <td>3</td>\n",
       "      <td>7</td>\n",
       "      <td>17092</td>\n",
       "      <td>0</td>\n",
       "      <td>14</td>\n",
       "      <td>0</td>\n",
       "      <td>1179395</td>\n",
       "      <td>1022959</td>\n",
       "      <td>5</td>\n",
       "      <td>261</td>\n",
       "      <td>15</td>\n",
       "      <td>12</td>\n",
       "      <td>0</td>\n",
       "    </tr>\n",
       "    <tr>\n",
       "      <td>4</td>\n",
       "      <td>7</td>\n",
       "      <td>11307</td>\n",
       "      <td>0</td>\n",
       "      <td>18</td>\n",
       "      <td>1</td>\n",
       "      <td>1398558</td>\n",
       "      <td>1085170</td>\n",
       "      <td>7</td>\n",
       "      <td>200</td>\n",
       "      <td>19</td>\n",
       "      <td>13</td>\n",
       "      <td>0</td>\n",
       "    </tr>\n",
       "  </tbody>\n",
       "</table>\n",
       "</div>"
      ],
      "text/plain": [
       "   Staff  Floor Space  Car park  Demographic score  Location  \\\n",
       "0      9        18526         1                 10         1   \n",
       "1      8        18569         1                 11         2   \n",
       "2     -2        12288         0                 12         1   \n",
       "3      7        17092         0                 14         0   \n",
       "4      7        11307         0                 18         1   \n",
       "\n",
       "   40min population  30 min population  Store age  Clearance space  \\\n",
       "0           1288374            1138224          3              238   \n",
       "1           1086225            1015321          4              384   \n",
       "2           1595638            1281661         11              219   \n",
       "3           1179395            1022959          5              261   \n",
       "4           1398558            1085170          7              200   \n",
       "\n",
       "   Competition number  Competition score  Performance  \n",
       "0                  16                 16            1  \n",
       "1                  15                 19            1  \n",
       "2                  13                 18            0  \n",
       "3                  15                 12            0  \n",
       "4                  19                 13            0  "
      ]
     },
     "execution_count": 34,
     "metadata": {},
     "output_type": "execute_result"
    }
   ],
   "source": [
    "data.head()"
   ]
  },
  {
   "cell_type": "code",
   "execution_count": 35,
   "metadata": {},
   "outputs": [],
   "source": [
    "X = data.drop('Performance', axis = 1)\n",
    "y = data['Performance']"
   ]
  },
  {
   "cell_type": "code",
   "execution_count": 42,
   "metadata": {},
   "outputs": [],
   "source": [
    "from sklearn.preprocessing import MinMaxScaler\n",
    "\n",
    "scaler = MinMaxScaler()\n",
    "\n",
    "X = scaler.fit_transform(X)"
   ]
  },
  {
   "cell_type": "code",
   "execution_count": 43,
   "metadata": {},
   "outputs": [],
   "source": [
    "from sklearn.model_selection import train_test_split\n",
    "\n",
    "X_train, X_test, y_train, y_test = train_test_split(X, y, test_size = 0.2, random_state = 42)"
   ]
  },
  {
   "cell_type": "markdown",
   "metadata": {},
   "source": [
    "## Model Buiding & Evaluation"
   ]
  },
  {
   "cell_type": "code",
   "execution_count": 44,
   "metadata": {},
   "outputs": [],
   "source": [
    "from sklearn.linear_model import LogisticRegression\n",
    "from sklearn.neighbors import KNeighborsClassifier\n",
    "from sklearn.naive_bayes import GaussianNB\n",
    "\n",
    "from sklearn.metrics import accuracy_score, classification_report"
   ]
  },
  {
   "cell_type": "code",
   "execution_count": 45,
   "metadata": {},
   "outputs": [
    {
     "data": {
      "text/plain": [
       "LogisticRegression()"
      ]
     },
     "execution_count": 45,
     "metadata": {},
     "output_type": "execute_result"
    }
   ],
   "source": [
    "# Logistic Regression\n",
    "\n",
    "log_reg = LogisticRegression()\n",
    "log_reg.fit(X_train, y_train)"
   ]
  },
  {
   "cell_type": "code",
   "execution_count": 46,
   "metadata": {},
   "outputs": [],
   "source": [
    "y_pred_log = log_reg.predict(X_test)"
   ]
  },
  {
   "cell_type": "code",
   "execution_count": 47,
   "metadata": {},
   "outputs": [
    {
     "data": {
      "text/plain": [
       "0.5357142857142857"
      ]
     },
     "execution_count": 47,
     "metadata": {},
     "output_type": "execute_result"
    }
   ],
   "source": [
    "accuracy_score(y_test, y_pred_log)"
   ]
  },
  {
   "cell_type": "code",
   "execution_count": 48,
   "metadata": {},
   "outputs": [
    {
     "data": {
      "text/plain": [
       "GaussianNB()"
      ]
     },
     "execution_count": 48,
     "metadata": {},
     "output_type": "execute_result"
    }
   ],
   "source": [
    "## Naive Bayes\n",
    "\n",
    "nb = GaussianNB()\n",
    "nb.fit(X_train, y_train)"
   ]
  },
  {
   "cell_type": "code",
   "execution_count": 49,
   "metadata": {},
   "outputs": [],
   "source": [
    "y_pred_nb = nb.predict(X_test)"
   ]
  },
  {
   "cell_type": "code",
   "execution_count": 50,
   "metadata": {},
   "outputs": [
    {
     "data": {
      "text/plain": [
       "0.39285714285714285"
      ]
     },
     "execution_count": 50,
     "metadata": {},
     "output_type": "execute_result"
    }
   ],
   "source": [
    "accuracy_score(y_test, y_pred_nb)"
   ]
  },
  {
   "cell_type": "code",
   "execution_count": 54,
   "metadata": {},
   "outputs": [
    {
     "data": {
      "text/plain": [
       "KNeighborsClassifier(n_neighbors=7)"
      ]
     },
     "execution_count": 54,
     "metadata": {},
     "output_type": "execute_result"
    }
   ],
   "source": [
    "## KNN\n",
    "\n",
    "knn = KNeighborsClassifier(n_neighbors=7)\n",
    "knn.fit(X_train, y_train)"
   ]
  },
  {
   "cell_type": "code",
   "execution_count": 55,
   "metadata": {},
   "outputs": [],
   "source": [
    "y_pred_knn = knn.predict(X_test)"
   ]
  },
  {
   "cell_type": "code",
   "execution_count": 56,
   "metadata": {},
   "outputs": [
    {
     "data": {
      "text/plain": [
       "0.6785714285714286"
      ]
     },
     "execution_count": 56,
     "metadata": {},
     "output_type": "execute_result"
    }
   ],
   "source": [
    "accuracy_score(y_test, y_pred_knn)"
   ]
  },
  {
   "cell_type": "code",
   "execution_count": null,
   "metadata": {},
   "outputs": [],
   "source": []
  }
 ],
 "metadata": {
  "kernelspec": {
   "display_name": "Python 3",
   "language": "python",
   "name": "python3"
  },
  "language_info": {
   "codemirror_mode": {
    "name": "ipython",
    "version": 3
   },
   "file_extension": ".py",
   "mimetype": "text/x-python",
   "name": "python",
   "nbconvert_exporter": "python",
   "pygments_lexer": "ipython3",
   "version": "3.7.4"
  }
 },
 "nbformat": 4,
 "nbformat_minor": 2
}
