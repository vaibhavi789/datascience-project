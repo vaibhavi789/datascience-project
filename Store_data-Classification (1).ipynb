{
 "cells": [
  {
   "cell_type": "markdown",
   "metadata": {},
   "source": [
    "# Importing Libraries"
   ]
  },
  {
   "cell_type": "code",
   "execution_count": 1,
   "metadata": {},
   "outputs": [],
   "source": [
    "import numpy as np\n",
    "import pandas as pd\n",
    "\n",
    "import matplotlib.pyplot as plt\n",
    "import seaborn as sns\n",
    "%matplotlib inline\n",
    "\n",
    "#Scaling\n",
    "from sklearn.preprocessing import MinMaxScaler\n",
    "\n",
    "#applying grid search cv to find the best hyper parameters for model\n",
    "from sklearn.model_selection import RandomizedSearchCV\n",
    "\n",
    "# Fit models\n",
    "from sklearn.linear_model import LogisticRegression\n",
    "\n",
    "from sklearn.tree import DecisionTreeClassifier\n",
    "\n",
    "# Scoring functions\n",
    "from sklearn.metrics import accuracy_score\n",
    "from sklearn.metrics import f1_score\n",
    "from sklearn.metrics import confusion_matrix\n",
    "\n",
    "#Removing Warnings\n",
    "import warnings\n",
    "warnings.filterwarnings('ignore')"
   ]
  },
  {
   "cell_type": "markdown",
   "metadata": {},
   "source": [
    "# Store Dataset"
   ]
  },
  {
   "cell_type": "code",
   "execution_count": 2,
   "metadata": {},
   "outputs": [],
   "source": [
    "data = pd.read_excel('storedata.csv')"
   ]
  },
  {
   "cell_type": "code",
   "execution_count": 3,
   "metadata": {},
   "outputs": [
    {
     "data": {
      "text/html": [
       "<div>\n",
       "<style scoped>\n",
       "    .dataframe tbody tr th:only-of-type {\n",
       "        vertical-align: middle;\n",
       "    }\n",
       "\n",
       "    .dataframe tbody tr th {\n",
       "        vertical-align: top;\n",
       "    }\n",
       "\n",
       "    .dataframe thead th {\n",
       "        text-align: right;\n",
       "    }\n",
       "</style>\n",
       "<table border=\"1\" class=\"dataframe\">\n",
       "  <thead>\n",
       "    <tr style=\"text-align: right;\">\n",
       "      <th></th>\n",
       "      <th>Town</th>\n",
       "      <th>Country</th>\n",
       "      <th>Store ID</th>\n",
       "      <th>Manager name</th>\n",
       "      <th>Staff</th>\n",
       "      <th>Floor Space</th>\n",
       "      <th>Window</th>\n",
       "      <th>Car park</th>\n",
       "      <th>Demographic score</th>\n",
       "      <th>Location</th>\n",
       "      <th>40min population</th>\n",
       "      <th>30 min population</th>\n",
       "      <th>20 min population</th>\n",
       "      <th>10 min population</th>\n",
       "      <th>Store age</th>\n",
       "      <th>Clearance space</th>\n",
       "      <th>Competition number</th>\n",
       "      <th>Competition score</th>\n",
       "      <th>Performance</th>\n",
       "    </tr>\n",
       "  </thead>\n",
       "  <tbody>\n",
       "    <tr>\n",
       "      <td>0</td>\n",
       "      <td>Swinton (Greater Manchester)</td>\n",
       "      <td>UK</td>\n",
       "      <td>1437</td>\n",
       "      <td>Roger</td>\n",
       "      <td>9</td>\n",
       "      <td>18526</td>\n",
       "      <td>121</td>\n",
       "      <td>Yes</td>\n",
       "      <td>10</td>\n",
       "      <td>Retail Park</td>\n",
       "      <td>1288374</td>\n",
       "      <td>1138224</td>\n",
       "      <td>1006986</td>\n",
       "      <td>1002340</td>\n",
       "      <td>3</td>\n",
       "      <td>238</td>\n",
       "      <td>16</td>\n",
       "      <td>16</td>\n",
       "      <td>Good</td>\n",
       "    </tr>\n",
       "    <tr>\n",
       "      <td>1</td>\n",
       "      <td>Stamford</td>\n",
       "      <td>UK</td>\n",
       "      <td>1544</td>\n",
       "      <td>Ella</td>\n",
       "      <td>8</td>\n",
       "      <td>18569</td>\n",
       "      <td>121</td>\n",
       "      <td>Yes</td>\n",
       "      <td>11</td>\n",
       "      <td>Shopping Centre</td>\n",
       "      <td>1086225</td>\n",
       "      <td>1015321</td>\n",
       "      <td>1012182</td>\n",
       "      <td>1008436</td>\n",
       "      <td>4</td>\n",
       "      <td>384</td>\n",
       "      <td>15</td>\n",
       "      <td>19</td>\n",
       "      <td>Good</td>\n",
       "    </tr>\n",
       "    <tr>\n",
       "      <td>2</td>\n",
       "      <td>Skipton</td>\n",
       "      <td>UK</td>\n",
       "      <td>2039</td>\n",
       "      <td>Valentina</td>\n",
       "      <td>-2</td>\n",
       "      <td>12288</td>\n",
       "      <td>105</td>\n",
       "      <td>No</td>\n",
       "      <td>12</td>\n",
       "      <td>Retail Park</td>\n",
       "      <td>1595638</td>\n",
       "      <td>1281661</td>\n",
       "      <td>1104490</td>\n",
       "      <td>1011395</td>\n",
       "      <td>11</td>\n",
       "      <td>219</td>\n",
       "      <td>13</td>\n",
       "      <td>18</td>\n",
       "      <td>Bad</td>\n",
       "    </tr>\n",
       "    <tr>\n",
       "      <td>3</td>\n",
       "      <td>Stratton</td>\n",
       "      <td>UK</td>\n",
       "      <td>2055</td>\n",
       "      <td>Antonia</td>\n",
       "      <td>7</td>\n",
       "      <td>17092</td>\n",
       "      <td>117</td>\n",
       "      <td>No</td>\n",
       "      <td>14</td>\n",
       "      <td>High Street</td>\n",
       "      <td>1179395</td>\n",
       "      <td>1022959</td>\n",
       "      <td>1009496</td>\n",
       "      <td>1002169</td>\n",
       "      <td>5</td>\n",
       "      <td>261</td>\n",
       "      <td>15</td>\n",
       "      <td>12</td>\n",
       "      <td>Bad</td>\n",
       "    </tr>\n",
       "    <tr>\n",
       "      <td>4</td>\n",
       "      <td>Shepperton</td>\n",
       "      <td>UK</td>\n",
       "      <td>2141</td>\n",
       "      <td>Gabriel</td>\n",
       "      <td>7</td>\n",
       "      <td>11307</td>\n",
       "      <td>103</td>\n",
       "      <td>No</td>\n",
       "      <td>18</td>\n",
       "      <td>Retail Park</td>\n",
       "      <td>1398558</td>\n",
       "      <td>1085170</td>\n",
       "      <td>1003137</td>\n",
       "      <td>1002513</td>\n",
       "      <td>7</td>\n",
       "      <td>200</td>\n",
       "      <td>19</td>\n",
       "      <td>13</td>\n",
       "      <td>Bad</td>\n",
       "    </tr>\n",
       "    <tr>\n",
       "      <td>...</td>\n",
       "      <td>...</td>\n",
       "      <td>...</td>\n",
       "      <td>...</td>\n",
       "      <td>...</td>\n",
       "      <td>...</td>\n",
       "      <td>...</td>\n",
       "      <td>...</td>\n",
       "      <td>...</td>\n",
       "      <td>...</td>\n",
       "      <td>...</td>\n",
       "      <td>...</td>\n",
       "      <td>...</td>\n",
       "      <td>...</td>\n",
       "      <td>...</td>\n",
       "      <td>...</td>\n",
       "      <td>...</td>\n",
       "      <td>...</td>\n",
       "      <td>...</td>\n",
       "      <td>...</td>\n",
       "    </tr>\n",
       "    <tr>\n",
       "      <td>131</td>\n",
       "      <td>South Benfleet</td>\n",
       "      <td>UK</td>\n",
       "      <td>96853</td>\n",
       "      <td>Vitï¿½ria</td>\n",
       "      <td>7</td>\n",
       "      <td>14120</td>\n",
       "      <td>110</td>\n",
       "      <td>Yes</td>\n",
       "      <td>13</td>\n",
       "      <td>Retail Park</td>\n",
       "      <td>1665074</td>\n",
       "      <td>1240813</td>\n",
       "      <td>1141898</td>\n",
       "      <td>1041041</td>\n",
       "      <td>6</td>\n",
       "      <td>202</td>\n",
       "      <td>18</td>\n",
       "      <td>14</td>\n",
       "      <td>Bad</td>\n",
       "    </tr>\n",
       "    <tr>\n",
       "      <td>132</td>\n",
       "      <td>Sandy</td>\n",
       "      <td>UK</td>\n",
       "      <td>96858</td>\n",
       "      <td>Matï¿½as</td>\n",
       "      <td>6</td>\n",
       "      <td>11205</td>\n",
       "      <td>103</td>\n",
       "      <td>No</td>\n",
       "      <td>15</td>\n",
       "      <td>Shopping Centre</td>\n",
       "      <td>1657769</td>\n",
       "      <td>1424404</td>\n",
       "      <td>1378708</td>\n",
       "      <td>1160929</td>\n",
       "      <td>5</td>\n",
       "      <td>203</td>\n",
       "      <td>13</td>\n",
       "      <td>18</td>\n",
       "      <td>Bad</td>\n",
       "    </tr>\n",
       "    <tr>\n",
       "      <td>133</td>\n",
       "      <td>Sheerness</td>\n",
       "      <td>UK</td>\n",
       "      <td>98062</td>\n",
       "      <td>Gustavo</td>\n",
       "      <td>7</td>\n",
       "      <td>16190</td>\n",
       "      <td>115</td>\n",
       "      <td>No</td>\n",
       "      <td>19</td>\n",
       "      <td>Shopping Centre</td>\n",
       "      <td>1407456</td>\n",
       "      <td>1359511</td>\n",
       "      <td>1200486</td>\n",
       "      <td>1063718</td>\n",
       "      <td>7</td>\n",
       "      <td>341</td>\n",
       "      <td>18</td>\n",
       "      <td>18</td>\n",
       "      <td>Bad</td>\n",
       "    </tr>\n",
       "    <tr>\n",
       "      <td>134</td>\n",
       "      <td>Salford</td>\n",
       "      <td>UK</td>\n",
       "      <td>98923</td>\n",
       "      <td>Rafael</td>\n",
       "      <td>6</td>\n",
       "      <td>15516</td>\n",
       "      <td>113</td>\n",
       "      <td>No</td>\n",
       "      <td>17</td>\n",
       "      <td>High Street</td>\n",
       "      <td>1451087</td>\n",
       "      <td>1245725</td>\n",
       "      <td>1127276</td>\n",
       "      <td>1045154</td>\n",
       "      <td>11</td>\n",
       "      <td>261</td>\n",
       "      <td>14</td>\n",
       "      <td>10</td>\n",
       "      <td>Bad</td>\n",
       "    </tr>\n",
       "    <tr>\n",
       "      <td>135</td>\n",
       "      <td>Stapleford</td>\n",
       "      <td>UK</td>\n",
       "      <td>99854</td>\n",
       "      <td>Lea</td>\n",
       "      <td>9</td>\n",
       "      <td>14468</td>\n",
       "      <td>111</td>\n",
       "      <td>Yes</td>\n",
       "      <td>18</td>\n",
       "      <td>High Street</td>\n",
       "      <td>1706344</td>\n",
       "      <td>1307752</td>\n",
       "      <td>1159859</td>\n",
       "      <td>1020940</td>\n",
       "      <td>8</td>\n",
       "      <td>276</td>\n",
       "      <td>18</td>\n",
       "      <td>13</td>\n",
       "      <td>Good</td>\n",
       "    </tr>\n",
       "  </tbody>\n",
       "</table>\n",
       "<p>136 rows × 19 columns</p>\n",
       "</div>"
      ],
      "text/plain": [
       "                              Town Country  Store ID Manager name  Staff  \\\n",
       "0     Swinton (Greater Manchester)      UK      1437        Roger      9   \n",
       "1                         Stamford      UK      1544         Ella      8   \n",
       "2                          Skipton      UK      2039    Valentina     -2   \n",
       "3                         Stratton      UK      2055      Antonia      7   \n",
       "4                       Shepperton      UK      2141      Gabriel      7   \n",
       "..                             ...     ...       ...          ...    ...   \n",
       "131                 South Benfleet      UK     96853    Vitï¿½ria      7   \n",
       "132                          Sandy      UK     96858     Matï¿½as      6   \n",
       "133                      Sheerness      UK     98062      Gustavo      7   \n",
       "134                        Salford      UK     98923       Rafael      6   \n",
       "135                     Stapleford      UK     99854          Lea      9   \n",
       "\n",
       "     Floor Space  Window Car park  Demographic score         Location  \\\n",
       "0          18526     121      Yes                 10      Retail Park   \n",
       "1          18569     121      Yes                 11  Shopping Centre   \n",
       "2          12288     105       No                 12      Retail Park   \n",
       "3          17092     117       No                 14      High Street   \n",
       "4          11307     103       No                 18      Retail Park   \n",
       "..           ...     ...      ...                ...              ...   \n",
       "131        14120     110      Yes                 13      Retail Park   \n",
       "132        11205     103       No                 15  Shopping Centre   \n",
       "133        16190     115       No                 19  Shopping Centre   \n",
       "134        15516     113       No                 17      High Street   \n",
       "135        14468     111      Yes                 18      High Street   \n",
       "\n",
       "     40min population  30 min population  20 min population  \\\n",
       "0             1288374            1138224            1006986   \n",
       "1             1086225            1015321            1012182   \n",
       "2             1595638            1281661            1104490   \n",
       "3             1179395            1022959            1009496   \n",
       "4             1398558            1085170            1003137   \n",
       "..                ...                ...                ...   \n",
       "131           1665074            1240813            1141898   \n",
       "132           1657769            1424404            1378708   \n",
       "133           1407456            1359511            1200486   \n",
       "134           1451087            1245725            1127276   \n",
       "135           1706344            1307752            1159859   \n",
       "\n",
       "     10 min population  Store age  Clearance space  Competition number  \\\n",
       "0              1002340          3              238                  16   \n",
       "1              1008436          4              384                  15   \n",
       "2              1011395         11              219                  13   \n",
       "3              1002169          5              261                  15   \n",
       "4              1002513          7              200                  19   \n",
       "..                 ...        ...              ...                 ...   \n",
       "131            1041041          6              202                  18   \n",
       "132            1160929          5              203                  13   \n",
       "133            1063718          7              341                  18   \n",
       "134            1045154         11              261                  14   \n",
       "135            1020940          8              276                  18   \n",
       "\n",
       "     Competition score Performance  \n",
       "0                   16        Good  \n",
       "1                   19        Good  \n",
       "2                   18         Bad  \n",
       "3                   12         Bad  \n",
       "4                   13         Bad  \n",
       "..                 ...         ...  \n",
       "131                 14         Bad  \n",
       "132                 18         Bad  \n",
       "133                 18         Bad  \n",
       "134                 10         Bad  \n",
       "135                 13        Good  \n",
       "\n",
       "[136 rows x 19 columns]"
      ]
     },
     "execution_count": 3,
     "metadata": {},
     "output_type": "execute_result"
    }
   ],
   "source": [
    "data"
   ]
  },
  {
   "cell_type": "markdown",
   "metadata": {},
   "source": [
    "The dataset consist of 136 rows and 19 columns"
   ]
  },
  {
   "cell_type": "markdown",
   "metadata": {},
   "source": [
    "# Understanding the Store Dataset"
   ]
  },
  {
   "cell_type": "code",
   "execution_count": 11,
   "metadata": {},
   "outputs": [
    {
     "name": "stdout",
     "output_type": "stream",
     "text": [
      "<class 'pandas.core.frame.DataFrame'>\n",
      "RangeIndex: 136 entries, 0 to 135\n",
      "Data columns (total 19 columns):\n",
      " #   Column              Non-Null Count  Dtype \n",
      "---  ------              --------------  ----- \n",
      " 0   Town                136 non-null    object\n",
      " 1   Country             136 non-null    object\n",
      " 2   Store ID            136 non-null    int64 \n",
      " 3   Manager name        136 non-null    object\n",
      " 4   Staff               136 non-null    int64 \n",
      " 5   Floor Space         136 non-null    int64 \n",
      " 6   Window              136 non-null    int64 \n",
      " 7   Car park            136 non-null    object\n",
      " 8   Demographic score   136 non-null    int64 \n",
      " 9   Location            136 non-null    object\n",
      " 10  40min population    136 non-null    int64 \n",
      " 11  30 min population   136 non-null    int64 \n",
      " 12  20 min population   136 non-null    int64 \n",
      " 13  10 min population   136 non-null    int64 \n",
      " 14  Store age           136 non-null    int64 \n",
      " 15  Clearance space     136 non-null    int64 \n",
      " 16  Competition number  136 non-null    int64 \n",
      " 17  Competition score   136 non-null    int64 \n",
      " 18  Performance         136 non-null    object\n",
      "dtypes: int64(13), object(6)\n",
      "memory usage: 20.3+ KB\n"
     ]
    }
   ],
   "source": [
    "#Dataset Information\n",
    "data.info()"
   ]
  },
  {
   "cell_type": "markdown",
   "metadata": {},
   "source": [
    "Attribut Information: \n",
    "    Store Dataset consist of 13 continuous feature and 6 categorical feature."
   ]
  },
  {
   "cell_type": "code",
   "execution_count": 13,
   "metadata": {},
   "outputs": [
    {
     "data": {
      "text/plain": [
       "0"
      ]
     },
     "execution_count": 13,
     "metadata": {},
     "output_type": "execute_result"
    }
   ],
   "source": [
    "#Checking for duplicate\n",
    "data.duplicated().sum()"
   ]
  },
  {
   "cell_type": "markdown",
   "metadata": {},
   "source": [
    "There is no duplicates values present in dataset"
   ]
  },
  {
   "cell_type": "code",
   "execution_count": 14,
   "metadata": {},
   "outputs": [
    {
     "data": {
      "text/plain": [
       "Town                  0\n",
       "Country               0\n",
       "Store ID              0\n",
       "Manager name          0\n",
       "Staff                 0\n",
       "Floor Space           0\n",
       "Window                0\n",
       "Car park              0\n",
       "Demographic score     0\n",
       "Location              0\n",
       "40min population      0\n",
       "30 min population     0\n",
       "20 min population     0\n",
       "10 min population     0\n",
       "Store age             0\n",
       "Clearance space       0\n",
       "Competition number    0\n",
       "Competition score     0\n",
       "Performance           0\n",
       "dtype: int64"
      ]
     },
     "execution_count": 14,
     "metadata": {},
     "output_type": "execute_result"
    }
   ],
   "source": [
    "#Checking Null values\n",
    "data.isnull().sum()"
   ]
  },
  {
   "cell_type": "markdown",
   "metadata": {},
   "source": [
    "There is no null values present in dataset"
   ]
  },
  {
   "cell_type": "code",
   "execution_count": 15,
   "metadata": {},
   "outputs": [],
   "source": [
    "#Function to get statistical summary of the dataset\n",
    "def statistical_summary(x):\n",
    "    Mode = x.value_counts(ascending = False)[0:1].reset_index()\n",
    "    return pd.Series([x.count(), x.isnull().sum(),len(np.unique(x)),\n",
    "                      Mode.iloc[0,0], Mode.iloc[0,1], round((Mode.iloc[0,1]*100)/x.count(),2)],\n",
    "                      index = ['Count', 'Miss','Unique', 'MODE', 'FREQ', 'PERC'])"
   ]
  },
  {
   "cell_type": "code",
   "execution_count": 16,
   "metadata": {},
   "outputs": [
    {
     "data": {
      "text/html": [
       "<div>\n",
       "<style scoped>\n",
       "    .dataframe tbody tr th:only-of-type {\n",
       "        vertical-align: middle;\n",
       "    }\n",
       "\n",
       "    .dataframe tbody tr th {\n",
       "        vertical-align: top;\n",
       "    }\n",
       "\n",
       "    .dataframe thead th {\n",
       "        text-align: right;\n",
       "    }\n",
       "</style>\n",
       "<table border=\"1\" class=\"dataframe\">\n",
       "  <thead>\n",
       "    <tr style=\"text-align: right;\">\n",
       "      <th></th>\n",
       "      <th>Count</th>\n",
       "      <th>Miss</th>\n",
       "      <th>Unique</th>\n",
       "      <th>MODE</th>\n",
       "      <th>FREQ</th>\n",
       "      <th>PERC</th>\n",
       "    </tr>\n",
       "  </thead>\n",
       "  <tbody>\n",
       "    <tr>\n",
       "      <th>Town</th>\n",
       "      <td>136</td>\n",
       "      <td>0</td>\n",
       "      <td>136</td>\n",
       "      <td>Sheringham</td>\n",
       "      <td>1</td>\n",
       "      <td>0.74</td>\n",
       "    </tr>\n",
       "    <tr>\n",
       "      <th>Country</th>\n",
       "      <td>136</td>\n",
       "      <td>0</td>\n",
       "      <td>2</td>\n",
       "      <td>UK</td>\n",
       "      <td>134</td>\n",
       "      <td>98.53</td>\n",
       "    </tr>\n",
       "    <tr>\n",
       "      <th>Store ID</th>\n",
       "      <td>136</td>\n",
       "      <td>0</td>\n",
       "      <td>136</td>\n",
       "      <td>61950</td>\n",
       "      <td>1</td>\n",
       "      <td>0.74</td>\n",
       "    </tr>\n",
       "    <tr>\n",
       "      <th>Manager name</th>\n",
       "      <td>136</td>\n",
       "      <td>0</td>\n",
       "      <td>118</td>\n",
       "      <td>Sarah</td>\n",
       "      <td>3</td>\n",
       "      <td>2.21</td>\n",
       "    </tr>\n",
       "    <tr>\n",
       "      <th>Staff</th>\n",
       "      <td>136</td>\n",
       "      <td>0</td>\n",
       "      <td>8</td>\n",
       "      <td>7</td>\n",
       "      <td>29</td>\n",
       "      <td>21.32</td>\n",
       "    </tr>\n",
       "    <tr>\n",
       "      <th>Floor Space</th>\n",
       "      <td>136</td>\n",
       "      <td>0</td>\n",
       "      <td>135</td>\n",
       "      <td>13532</td>\n",
       "      <td>2</td>\n",
       "      <td>1.47</td>\n",
       "    </tr>\n",
       "    <tr>\n",
       "      <th>Window</th>\n",
       "      <td>136</td>\n",
       "      <td>0</td>\n",
       "      <td>25</td>\n",
       "      <td>109</td>\n",
       "      <td>11</td>\n",
       "      <td>8.09</td>\n",
       "    </tr>\n",
       "    <tr>\n",
       "      <th>Car park</th>\n",
       "      <td>136</td>\n",
       "      <td>0</td>\n",
       "      <td>4</td>\n",
       "      <td>Yes</td>\n",
       "      <td>94</td>\n",
       "      <td>69.12</td>\n",
       "    </tr>\n",
       "    <tr>\n",
       "      <th>Demographic score</th>\n",
       "      <td>136</td>\n",
       "      <td>0</td>\n",
       "      <td>10</td>\n",
       "      <td>17</td>\n",
       "      <td>18</td>\n",
       "      <td>13.24</td>\n",
       "    </tr>\n",
       "    <tr>\n",
       "      <th>Location</th>\n",
       "      <td>136</td>\n",
       "      <td>0</td>\n",
       "      <td>4</td>\n",
       "      <td>Shopping Centre</td>\n",
       "      <td>52</td>\n",
       "      <td>38.24</td>\n",
       "    </tr>\n",
       "    <tr>\n",
       "      <th>40min population</th>\n",
       "      <td>136</td>\n",
       "      <td>0</td>\n",
       "      <td>136</td>\n",
       "      <td>1.13587e+06</td>\n",
       "      <td>1</td>\n",
       "      <td>0.74</td>\n",
       "    </tr>\n",
       "    <tr>\n",
       "      <th>30 min population</th>\n",
       "      <td>136</td>\n",
       "      <td>0</td>\n",
       "      <td>136</td>\n",
       "      <td>1.02579e+06</td>\n",
       "      <td>1</td>\n",
       "      <td>0.74</td>\n",
       "    </tr>\n",
       "    <tr>\n",
       "      <th>20 min population</th>\n",
       "      <td>136</td>\n",
       "      <td>0</td>\n",
       "      <td>136</td>\n",
       "      <td>1.14685e+06</td>\n",
       "      <td>1</td>\n",
       "      <td>0.74</td>\n",
       "    </tr>\n",
       "    <tr>\n",
       "      <th>10 min population</th>\n",
       "      <td>136</td>\n",
       "      <td>0</td>\n",
       "      <td>136</td>\n",
       "      <td>1.03646e+06</td>\n",
       "      <td>1</td>\n",
       "      <td>0.74</td>\n",
       "    </tr>\n",
       "    <tr>\n",
       "      <th>Store age</th>\n",
       "      <td>136</td>\n",
       "      <td>0</td>\n",
       "      <td>10</td>\n",
       "      <td>5</td>\n",
       "      <td>17</td>\n",
       "      <td>12.5</td>\n",
       "    </tr>\n",
       "    <tr>\n",
       "      <th>Clearance space</th>\n",
       "      <td>136</td>\n",
       "      <td>0</td>\n",
       "      <td>90</td>\n",
       "      <td>200</td>\n",
       "      <td>5</td>\n",
       "      <td>3.68</td>\n",
       "    </tr>\n",
       "    <tr>\n",
       "      <th>Competition number</th>\n",
       "      <td>136</td>\n",
       "      <td>0</td>\n",
       "      <td>10</td>\n",
       "      <td>16</td>\n",
       "      <td>16</td>\n",
       "      <td>11.76</td>\n",
       "    </tr>\n",
       "    <tr>\n",
       "      <th>Competition score</th>\n",
       "      <td>136</td>\n",
       "      <td>0</td>\n",
       "      <td>10</td>\n",
       "      <td>18</td>\n",
       "      <td>20</td>\n",
       "      <td>14.71</td>\n",
       "    </tr>\n",
       "    <tr>\n",
       "      <th>Performance</th>\n",
       "      <td>136</td>\n",
       "      <td>0</td>\n",
       "      <td>2</td>\n",
       "      <td>Good</td>\n",
       "      <td>69</td>\n",
       "      <td>50.74</td>\n",
       "    </tr>\n",
       "  </tbody>\n",
       "</table>\n",
       "</div>"
      ],
      "text/plain": [
       "                   Count Miss Unique             MODE FREQ   PERC\n",
       "Town                 136    0    136       Sheringham    1   0.74\n",
       "Country              136    0      2               UK  134  98.53\n",
       "Store ID             136    0    136            61950    1   0.74\n",
       "Manager name         136    0    118            Sarah    3   2.21\n",
       "Staff                136    0      8                7   29  21.32\n",
       "Floor Space          136    0    135            13532    2   1.47\n",
       "Window               136    0     25              109   11   8.09\n",
       "Car park             136    0      4              Yes   94  69.12\n",
       "Demographic score    136    0     10               17   18  13.24\n",
       "Location             136    0      4  Shopping Centre   52  38.24\n",
       "40min population     136    0    136      1.13587e+06    1   0.74\n",
       "30 min population    136    0    136      1.02579e+06    1   0.74\n",
       "20 min population    136    0    136      1.14685e+06    1   0.74\n",
       "10 min population    136    0    136      1.03646e+06    1   0.74\n",
       "Store age            136    0     10                5   17   12.5\n",
       "Clearance space      136    0     90              200    5   3.68\n",
       "Competition number   136    0     10               16   16  11.76\n",
       "Competition score    136    0     10               18   20  14.71\n",
       "Performance          136    0      2             Good   69  50.74"
      ]
     },
     "execution_count": 16,
     "metadata": {},
     "output_type": "execute_result"
    }
   ],
   "source": [
    "#Getting statiscal summary of the mushroom dataset\n",
    "data.apply(statistical_summary).T"
   ]
  },
  {
   "cell_type": "markdown",
   "metadata": {},
   "source": [
    "The above chart shows statistical measure of attributes in dataset. Measure are Count, Unique Vlaues, Mode etc"
   ]
  },
  {
   "cell_type": "markdown",
   "metadata": {},
   "source": [
    "# Exploratory Data Analysis"
   ]
  },
  {
   "cell_type": "code",
   "execution_count": 17,
   "metadata": {},
   "outputs": [
    {
     "data": {
      "text/html": [
       "<div>\n",
       "<style scoped>\n",
       "    .dataframe tbody tr th:only-of-type {\n",
       "        vertical-align: middle;\n",
       "    }\n",
       "\n",
       "    .dataframe tbody tr th {\n",
       "        vertical-align: top;\n",
       "    }\n",
       "\n",
       "    .dataframe thead th {\n",
       "        text-align: right;\n",
       "    }\n",
       "</style>\n",
       "<table border=\"1\" class=\"dataframe\">\n",
       "  <thead>\n",
       "    <tr style=\"text-align: right;\">\n",
       "      <th></th>\n",
       "      <th>Town</th>\n",
       "      <th>Country</th>\n",
       "      <th>Store ID</th>\n",
       "      <th>Manager name</th>\n",
       "      <th>Staff</th>\n",
       "      <th>Floor Space</th>\n",
       "      <th>Window</th>\n",
       "      <th>Car park</th>\n",
       "      <th>Demographic score</th>\n",
       "      <th>Location</th>\n",
       "      <th>40min population</th>\n",
       "      <th>30 min population</th>\n",
       "      <th>20 min population</th>\n",
       "      <th>10 min population</th>\n",
       "      <th>Store age</th>\n",
       "      <th>Clearance space</th>\n",
       "      <th>Competition number</th>\n",
       "      <th>Competition score</th>\n",
       "      <th>Performance</th>\n",
       "    </tr>\n",
       "  </thead>\n",
       "  <tbody>\n",
       "    <tr>\n",
       "      <th>0</th>\n",
       "      <td>Swinton (Greater Manchester)</td>\n",
       "      <td>UK</td>\n",
       "      <td>1437</td>\n",
       "      <td>Roger</td>\n",
       "      <td>9</td>\n",
       "      <td>18526</td>\n",
       "      <td>121</td>\n",
       "      <td>Yes</td>\n",
       "      <td>10</td>\n",
       "      <td>Retail Park</td>\n",
       "      <td>1288374</td>\n",
       "      <td>1138224</td>\n",
       "      <td>1006986</td>\n",
       "      <td>1002340</td>\n",
       "      <td>3</td>\n",
       "      <td>238</td>\n",
       "      <td>16</td>\n",
       "      <td>16</td>\n",
       "      <td>Good</td>\n",
       "    </tr>\n",
       "    <tr>\n",
       "      <th>1</th>\n",
       "      <td>Stamford</td>\n",
       "      <td>UK</td>\n",
       "      <td>1544</td>\n",
       "      <td>Ella</td>\n",
       "      <td>8</td>\n",
       "      <td>18569</td>\n",
       "      <td>121</td>\n",
       "      <td>Yes</td>\n",
       "      <td>11</td>\n",
       "      <td>Shopping Centre</td>\n",
       "      <td>1086225</td>\n",
       "      <td>1015321</td>\n",
       "      <td>1012182</td>\n",
       "      <td>1008436</td>\n",
       "      <td>4</td>\n",
       "      <td>384</td>\n",
       "      <td>15</td>\n",
       "      <td>19</td>\n",
       "      <td>Good</td>\n",
       "    </tr>\n",
       "    <tr>\n",
       "      <th>2</th>\n",
       "      <td>Skipton</td>\n",
       "      <td>UK</td>\n",
       "      <td>2039</td>\n",
       "      <td>Valentina</td>\n",
       "      <td>-2</td>\n",
       "      <td>12288</td>\n",
       "      <td>105</td>\n",
       "      <td>No</td>\n",
       "      <td>12</td>\n",
       "      <td>Retail Park</td>\n",
       "      <td>1595638</td>\n",
       "      <td>1281661</td>\n",
       "      <td>1104490</td>\n",
       "      <td>1011395</td>\n",
       "      <td>11</td>\n",
       "      <td>219</td>\n",
       "      <td>13</td>\n",
       "      <td>18</td>\n",
       "      <td>Bad</td>\n",
       "    </tr>\n",
       "    <tr>\n",
       "      <th>3</th>\n",
       "      <td>Stratton</td>\n",
       "      <td>UK</td>\n",
       "      <td>2055</td>\n",
       "      <td>Antonia</td>\n",
       "      <td>7</td>\n",
       "      <td>17092</td>\n",
       "      <td>117</td>\n",
       "      <td>No</td>\n",
       "      <td>14</td>\n",
       "      <td>High Street</td>\n",
       "      <td>1179395</td>\n",
       "      <td>1022959</td>\n",
       "      <td>1009496</td>\n",
       "      <td>1002169</td>\n",
       "      <td>5</td>\n",
       "      <td>261</td>\n",
       "      <td>15</td>\n",
       "      <td>12</td>\n",
       "      <td>Bad</td>\n",
       "    </tr>\n",
       "    <tr>\n",
       "      <th>4</th>\n",
       "      <td>Shepperton</td>\n",
       "      <td>UK</td>\n",
       "      <td>2141</td>\n",
       "      <td>Gabriel</td>\n",
       "      <td>7</td>\n",
       "      <td>11307</td>\n",
       "      <td>103</td>\n",
       "      <td>No</td>\n",
       "      <td>18</td>\n",
       "      <td>Retail Park</td>\n",
       "      <td>1398558</td>\n",
       "      <td>1085170</td>\n",
       "      <td>1003137</td>\n",
       "      <td>1002513</td>\n",
       "      <td>7</td>\n",
       "      <td>200</td>\n",
       "      <td>19</td>\n",
       "      <td>13</td>\n",
       "      <td>Bad</td>\n",
       "    </tr>\n",
       "  </tbody>\n",
       "</table>\n",
       "</div>"
      ],
      "text/plain": [
       "                            Town Country  Store ID Manager name  Staff  \\\n",
       "0   Swinton (Greater Manchester)      UK      1437        Roger      9   \n",
       "1                       Stamford      UK      1544         Ella      8   \n",
       "2                        Skipton      UK      2039    Valentina     -2   \n",
       "3                       Stratton      UK      2055      Antonia      7   \n",
       "4                     Shepperton      UK      2141      Gabriel      7   \n",
       "\n",
       "   Floor Space  Window Car park  Demographic score         Location  \\\n",
       "0        18526     121      Yes                 10      Retail Park   \n",
       "1        18569     121      Yes                 11  Shopping Centre   \n",
       "2        12288     105       No                 12      Retail Park   \n",
       "3        17092     117       No                 14      High Street   \n",
       "4        11307     103       No                 18      Retail Park   \n",
       "\n",
       "   40min population  30 min population  20 min population  10 min population  \\\n",
       "0           1288374            1138224            1006986            1002340   \n",
       "1           1086225            1015321            1012182            1008436   \n",
       "2           1595638            1281661            1104490            1011395   \n",
       "3           1179395            1022959            1009496            1002169   \n",
       "4           1398558            1085170            1003137            1002513   \n",
       "\n",
       "   Store age  Clearance space  Competition number  Competition score  \\\n",
       "0          3              238                  16                 16   \n",
       "1          4              384                  15                 19   \n",
       "2         11              219                  13                 18   \n",
       "3          5              261                  15                 12   \n",
       "4          7              200                  19                 13   \n",
       "\n",
       "  Performance  \n",
       "0        Good  \n",
       "1        Good  \n",
       "2         Bad  \n",
       "3         Bad  \n",
       "4         Bad  "
      ]
     },
     "execution_count": 17,
     "metadata": {},
     "output_type": "execute_result"
    }
   ],
   "source": [
    "data.head(5)"
   ]
  },
  {
   "cell_type": "code",
   "execution_count": 18,
   "metadata": {},
   "outputs": [
    {
     "name": "stdout",
     "output_type": "stream",
     "text": [
      "Good    69\n",
      "Bad     67\n",
      "Name: Performance, dtype: int64\n"
     ]
    },
    {
     "data": {
      "image/png": "[encoded data removed]",
      "text/plain": [
       "<Figure size 432x288 with 1 Axes>"
      ]
     },
     "metadata": {},
     "output_type": "display_data"
    }
   ],
   "source": [
    "#Total Good and Bad Performance\n",
    "print(data['Performance'].value_counts())\n",
    "plt.pie(data['Performance'].value_counts(), labels = ['Good','Bad'], autopct='%.1f%%')\n",
    "plt.legend()\n",
    "plt.show()"
   ]
  },
  {
   "cell_type": "markdown",
   "metadata": {},
   "source": [
    "From above chart we can say that, we have provided with 50.7% as Good Performance data and rest 49.3% as Bad Performance data"
   ]
  },
  {
   "cell_type": "code",
   "execution_count": 5,
   "metadata": {},
   "outputs": [
    {
     "data": {
      "image/png": "[encoded data removed]",
      "text/plain": [
       "<Figure size 1296x864 with 2 Axes>"
      ]
     },
     "metadata": {
      "needs_background": "light"
     },
     "output_type": "display_data"
    },
    {
     "data": {
      "image/png": "[encoded data removed]",
      "text/plain": [
       "<Figure size 432x288 with 1 Axes>"
      ]
     },
     "metadata": {
      "needs_background": "light"
     },
     "output_type": "display_data"
    },
    {
     "data": {
      "image/png": "[encoded data removed]",
      "text/plain": [
       "<Figure size 432x288 with 1 Axes>"
      ]
     },
     "metadata": {
      "needs_background": "light"
     },
     "output_type": "display_data"
    }
   ],
   "source": [
    "#Count Plot\n",
    "fig = plt.figure(figsize = (18,12))\n",
    "\n",
    "ax1 = fig.add_subplot(2,3,1)\n",
    "sns.countplot(data = data, x = 'Car park', ax=ax1)\n",
    "\n",
    "ax2 = fig.add_subplot(2,3,2)\n",
    "sns.countplot(data = data, x = 'Location', ax=ax2)\n",
    "\n",
    "#Sub Plot\n",
    "fig, ax = plt.subplots()\n",
    "\n",
    "ax.hist(data[data[\"Performance\"]=='Good'][\"Car park\"], bins=15, alpha=0.5, color=\"blue\", label=\"Good\")\n",
    "ax.hist(data[data[\"Performance\"]=='Bad'][\"Car park\"], bins=15, alpha=0.5, color=\"green\", label=\"Bad\")\n",
    "\n",
    "ax.set_xlabel(\"Car Park\")\n",
    "ax.set_ylabel(\"Performance\")\n",
    "\n",
    "fig.suptitle(\"Peformance vs. Car Park\")\n",
    "\n",
    "ax.legend();\n",
    "\n",
    "#Sub Plot\n",
    "fig, ax = plt.subplots()\n",
    "\n",
    "ax.hist(data[data[\"Performance\"]=='Good'][\"Location\"], bins=15, alpha=0.5, color=\"blue\", label=\"Good\")\n",
    "ax.hist(data[data[\"Performance\"]=='Bad'][\"Location\"], bins=15, alpha=0.5, color=\"green\", label=\"Bad\")\n",
    "\n",
    "ax.set_xlabel(\"Location\")\n",
    "ax.set_ylabel(\"Performance\")\n",
    "\n",
    "fig.suptitle(\"Peformance vs. Location\")\n",
    "\n",
    "ax.legend();"
   ]
  },
  {
   "cell_type": "markdown",
   "metadata": {},
   "source": [
    "From above plot we can say that people prefer to visit store that have car parking and store is in shopping centre\n",
    "From above plot we can see that store in shopping centre has Good Performance and Store in High Street has Bad Perforance "
   ]
  },
  {
   "cell_type": "code",
   "execution_count": 101,
   "metadata": {},
   "outputs": [
    {
     "data": {
      "image/png": "[encoded data removed]",
      "text/plain": [
       "<Figure size 864x720 with 2 Axes>"
      ]
     },
     "metadata": {},
     "output_type": "display_data"
    }
   ],
   "source": [
    "#Correlation \n",
    "#Displaying Correlation between varaibles using heatmap\n",
    "import seaborn as sns\n",
    "import matplotlib.pyplot as plt\n",
    "plt.figure(figsize=(12,10))\n",
    "cor = data.corr()\n",
    "sns.heatmap(cor, annot=True, cmap=plt.cm.CMRmap_r)\n",
    "plt.show()"
   ]
  },
  {
   "cell_type": "code",
   "execution_count": 120,
   "metadata": {},
   "outputs": [],
   "source": [
    "#This function filters out most correlated variables, threshold values is decided by us like 80% or more than that \n",
    "def correlation(data,threshold):\n",
    "    col_corr = set()\n",
    "    corr_matrix = data.corr()\n",
    "    for i in range(len(corr_matrix.columns)):\n",
    "        for j in range(i):\n",
    "            if abs(corr_matrix.iloc[i,j]) > threshold:\n",
    "                colname = corr_matrix.columns[i]\n",
    "                col_corr.add(colname)\n",
    "    return col_corr"
   ]
  },
  {
   "cell_type": "code",
   "execution_count": 121,
   "metadata": {},
   "outputs": [
    {
     "data": {
      "text/plain": [
       "3"
      ]
     },
     "execution_count": 121,
     "metadata": {},
     "output_type": "execute_result"
    }
   ],
   "source": [
    "#Getting ALL feature who are correlated to each other and had correlation values more than 80%\n",
    "corr_feature = correlation(data, 0.75)\n",
    "len(set(corr_feature))"
   ]
  },
  {
   "cell_type": "code",
   "execution_count": 122,
   "metadata": {},
   "outputs": [
    {
     "name": "stdout",
     "output_type": "stream",
     "text": [
      "{'Window', '10 min population', '20 min population'}\n"
     ]
    }
   ],
   "source": [
    "#Displaying all highly correlated variables\n",
    "print(corr_feature)"
   ]
  },
  {
   "cell_type": "code",
   "execution_count": 123,
   "metadata": {},
   "outputs": [],
   "source": [
    "#Dropping all correlated variables because they all are having same effects over target variables and have no use in model building\n",
    "data.drop(corr_feature,axis=1,inplace=True)"
   ]
  },
  {
   "cell_type": "markdown",
   "metadata": {},
   "source": [
    "Features selected on the basis of Pearson Correlation, and the features having correlation value more than 75% are dropped from the dataset as the have same effect over target variable and hence can be dropped from dataset"
   ]
  },
  {
   "cell_type": "markdown",
   "metadata": {},
   "source": [
    "# Feature Engineering"
   ]
  },
  {
   "cell_type": "code",
   "execution_count": 124,
   "metadata": {},
   "outputs": [],
   "source": [
    "#dropping columns that will not add any value to prediction \n",
    "data.drop(labels=['Town','Country','Store ID','Manager name'],axis=1,inplace=True) "
   ]
  },
  {
   "cell_type": "code",
   "execution_count": 125,
   "metadata": {},
   "outputs": [],
   "source": [
    "#Converting Y to Yes and N to No\n",
    "data['Car park'] = data['Car park'].replace({\"Y\":\"Yes\",\"N\":\"No\"})"
   ]
  },
  {
   "cell_type": "code",
   "execution_count": 126,
   "metadata": {},
   "outputs": [
    {
     "data": {
      "text/html": [
       "<div>\n",
       "<style scoped>\n",
       "    .dataframe tbody tr th:only-of-type {\n",
       "        vertical-align: middle;\n",
       "    }\n",
       "\n",
       "    .dataframe tbody tr th {\n",
       "        vertical-align: top;\n",
       "    }\n",
       "\n",
       "    .dataframe thead th {\n",
       "        text-align: right;\n",
       "    }\n",
       "</style>\n",
       "<table border=\"1\" class=\"dataframe\">\n",
       "  <thead>\n",
       "    <tr style=\"text-align: right;\">\n",
       "      <th></th>\n",
       "      <th>Staff</th>\n",
       "      <th>Floor Space</th>\n",
       "      <th>Car park</th>\n",
       "      <th>Demographic score</th>\n",
       "      <th>Location</th>\n",
       "      <th>40min population</th>\n",
       "      <th>30 min population</th>\n",
       "      <th>Store age</th>\n",
       "      <th>Clearance space</th>\n",
       "      <th>Competition number</th>\n",
       "      <th>Competition score</th>\n",
       "      <th>Performance</th>\n",
       "    </tr>\n",
       "  </thead>\n",
       "  <tbody>\n",
       "    <tr>\n",
       "      <th>0</th>\n",
       "      <td>9</td>\n",
       "      <td>18526</td>\n",
       "      <td>Yes</td>\n",
       "      <td>10</td>\n",
       "      <td>Retail Park</td>\n",
       "      <td>1288374</td>\n",
       "      <td>1138224</td>\n",
       "      <td>3</td>\n",
       "      <td>238</td>\n",
       "      <td>16</td>\n",
       "      <td>16</td>\n",
       "      <td>Good</td>\n",
       "    </tr>\n",
       "    <tr>\n",
       "      <th>1</th>\n",
       "      <td>8</td>\n",
       "      <td>18569</td>\n",
       "      <td>Yes</td>\n",
       "      <td>11</td>\n",
       "      <td>Shopping Centre</td>\n",
       "      <td>1086225</td>\n",
       "      <td>1015321</td>\n",
       "      <td>4</td>\n",
       "      <td>384</td>\n",
       "      <td>15</td>\n",
       "      <td>19</td>\n",
       "      <td>Good</td>\n",
       "    </tr>\n",
       "    <tr>\n",
       "      <th>2</th>\n",
       "      <td>-2</td>\n",
       "      <td>12288</td>\n",
       "      <td>No</td>\n",
       "      <td>12</td>\n",
       "      <td>Retail Park</td>\n",
       "      <td>1595638</td>\n",
       "      <td>1281661</td>\n",
       "      <td>11</td>\n",
       "      <td>219</td>\n",
       "      <td>13</td>\n",
       "      <td>18</td>\n",
       "      <td>Bad</td>\n",
       "    </tr>\n",
       "    <tr>\n",
       "      <th>3</th>\n",
       "      <td>7</td>\n",
       "      <td>17092</td>\n",
       "      <td>No</td>\n",
       "      <td>14</td>\n",
       "      <td>High Street</td>\n",
       "      <td>1179395</td>\n",
       "      <td>1022959</td>\n",
       "      <td>5</td>\n",
       "      <td>261</td>\n",
       "      <td>15</td>\n",
       "      <td>12</td>\n",
       "      <td>Bad</td>\n",
       "    </tr>\n",
       "    <tr>\n",
       "      <th>4</th>\n",
       "      <td>7</td>\n",
       "      <td>11307</td>\n",
       "      <td>No</td>\n",
       "      <td>18</td>\n",
       "      <td>Retail Park</td>\n",
       "      <td>1398558</td>\n",
       "      <td>1085170</td>\n",
       "      <td>7</td>\n",
       "      <td>200</td>\n",
       "      <td>19</td>\n",
       "      <td>13</td>\n",
       "      <td>Bad</td>\n",
       "    </tr>\n",
       "    <tr>\n",
       "      <th>...</th>\n",
       "      <td>...</td>\n",
       "      <td>...</td>\n",
       "      <td>...</td>\n",
       "      <td>...</td>\n",
       "      <td>...</td>\n",
       "      <td>...</td>\n",
       "      <td>...</td>\n",
       "      <td>...</td>\n",
       "      <td>...</td>\n",
       "      <td>...</td>\n",
       "      <td>...</td>\n",
       "      <td>...</td>\n",
       "    </tr>\n",
       "    <tr>\n",
       "      <th>131</th>\n",
       "      <td>7</td>\n",
       "      <td>14120</td>\n",
       "      <td>Yes</td>\n",
       "      <td>13</td>\n",
       "      <td>Retail Park</td>\n",
       "      <td>1665074</td>\n",
       "      <td>1240813</td>\n",
       "      <td>6</td>\n",
       "      <td>202</td>\n",
       "      <td>18</td>\n",
       "      <td>14</td>\n",
       "      <td>Bad</td>\n",
       "    </tr>\n",
       "    <tr>\n",
       "      <th>132</th>\n",
       "      <td>6</td>\n",
       "      <td>11205</td>\n",
       "      <td>No</td>\n",
       "      <td>15</td>\n",
       "      <td>Shopping Centre</td>\n",
       "      <td>1657769</td>\n",
       "      <td>1424404</td>\n",
       "      <td>5</td>\n",
       "      <td>203</td>\n",
       "      <td>13</td>\n",
       "      <td>18</td>\n",
       "      <td>Bad</td>\n",
       "    </tr>\n",
       "    <tr>\n",
       "      <th>133</th>\n",
       "      <td>7</td>\n",
       "      <td>16190</td>\n",
       "      <td>No</td>\n",
       "      <td>19</td>\n",
       "      <td>Shopping Centre</td>\n",
       "      <td>1407456</td>\n",
       "      <td>1359511</td>\n",
       "      <td>7</td>\n",
       "      <td>341</td>\n",
       "      <td>18</td>\n",
       "      <td>18</td>\n",
       "      <td>Bad</td>\n",
       "    </tr>\n",
       "    <tr>\n",
       "      <th>134</th>\n",
       "      <td>6</td>\n",
       "      <td>15516</td>\n",
       "      <td>No</td>\n",
       "      <td>17</td>\n",
       "      <td>High Street</td>\n",
       "      <td>1451087</td>\n",
       "      <td>1245725</td>\n",
       "      <td>11</td>\n",
       "      <td>261</td>\n",
       "      <td>14</td>\n",
       "      <td>10</td>\n",
       "      <td>Bad</td>\n",
       "    </tr>\n",
       "    <tr>\n",
       "      <th>135</th>\n",
       "      <td>9</td>\n",
       "      <td>14468</td>\n",
       "      <td>Yes</td>\n",
       "      <td>18</td>\n",
       "      <td>High Street</td>\n",
       "      <td>1706344</td>\n",
       "      <td>1307752</td>\n",
       "      <td>8</td>\n",
       "      <td>276</td>\n",
       "      <td>18</td>\n",
       "      <td>13</td>\n",
       "      <td>Good</td>\n",
       "    </tr>\n",
       "  </tbody>\n",
       "</table>\n",
       "<p>136 rows × 12 columns</p>\n",
       "</div>"
      ],
      "text/plain": [
       "     Staff  Floor Space Car park  Demographic score         Location  \\\n",
       "0        9        18526      Yes                 10      Retail Park   \n",
       "1        8        18569      Yes                 11  Shopping Centre   \n",
       "2       -2        12288       No                 12      Retail Park   \n",
       "3        7        17092       No                 14      High Street   \n",
       "4        7        11307       No                 18      Retail Park   \n",
       "..     ...          ...      ...                ...              ...   \n",
       "131      7        14120      Yes                 13      Retail Park   \n",
       "132      6        11205       No                 15  Shopping Centre   \n",
       "133      7        16190       No                 19  Shopping Centre   \n",
       "134      6        15516       No                 17      High Street   \n",
       "135      9        14468      Yes                 18      High Street   \n",
       "\n",
       "     40min population  30 min population  Store age  Clearance space  \\\n",
       "0             1288374            1138224          3              238   \n",
       "1             1086225            1015321          4              384   \n",
       "2             1595638            1281661         11              219   \n",
       "3             1179395            1022959          5              261   \n",
       "4             1398558            1085170          7              200   \n",
       "..                ...                ...        ...              ...   \n",
       "131           1665074            1240813          6              202   \n",
       "132           1657769            1424404          5              203   \n",
       "133           1407456            1359511          7              341   \n",
       "134           1451087            1245725         11              261   \n",
       "135           1706344            1307752          8              276   \n",
       "\n",
       "     Competition number  Competition score Performance  \n",
       "0                    16                 16        Good  \n",
       "1                    15                 19        Good  \n",
       "2                    13                 18         Bad  \n",
       "3                    15                 12         Bad  \n",
       "4                    19                 13         Bad  \n",
       "..                  ...                ...         ...  \n",
       "131                  18                 14         Bad  \n",
       "132                  13                 18         Bad  \n",
       "133                  18                 18         Bad  \n",
       "134                  14                 10         Bad  \n",
       "135                  18                 13        Good  \n",
       "\n",
       "[136 rows x 12 columns]"
      ]
     },
     "execution_count": 126,
     "metadata": {},
     "output_type": "execute_result"
    }
   ],
   "source": [
    "data"
   ]
  },
  {
   "cell_type": "code",
   "execution_count": 127,
   "metadata": {},
   "outputs": [
    {
     "name": "stdout",
     "output_type": "stream",
     "text": [
      "Index(['Car park', 'Location', 'Performance'], dtype='object')\n"
     ]
    }
   ],
   "source": [
    "#Getting list of categorical variable\n",
    "objList = data.select_dtypes(include = \"object\").columns\n",
    "print (objList)"
   ]
  },
  {
   "cell_type": "code",
   "execution_count": 128,
   "metadata": {},
   "outputs": [],
   "source": [
    "#Label Encoding for object to numeric conversion\n",
    "from sklearn.preprocessing import LabelEncoder\n",
    "le = LabelEncoder()\n",
    "\n",
    "#Converting all categorical variable to numerical values\n",
    "for feat in objList:\n",
    "    data[feat] = le.fit_transform(data[feat])\n",
    "\n"
   ]
  },
  {
   "cell_type": "code",
   "execution_count": 129,
   "metadata": {},
   "outputs": [
    {
     "data": {
      "text/html": [
       "<div>\n",
       "<style scoped>\n",
       "    .dataframe tbody tr th:only-of-type {\n",
       "        vertical-align: middle;\n",
       "    }\n",
       "\n",
       "    .dataframe tbody tr th {\n",
       "        vertical-align: top;\n",
       "    }\n",
       "\n",
       "    .dataframe thead th {\n",
       "        text-align: right;\n",
       "    }\n",
       "</style>\n",
       "<table border=\"1\" class=\"dataframe\">\n",
       "  <thead>\n",
       "    <tr style=\"text-align: right;\">\n",
       "      <th></th>\n",
       "      <th>Staff</th>\n",
       "      <th>Floor Space</th>\n",
       "      <th>Car park</th>\n",
       "      <th>Demographic score</th>\n",
       "      <th>Location</th>\n",
       "      <th>40min population</th>\n",
       "      <th>30 min population</th>\n",
       "      <th>Store age</th>\n",
       "      <th>Clearance space</th>\n",
       "      <th>Competition number</th>\n",
       "      <th>Competition score</th>\n",
       "      <th>Performance</th>\n",
       "    </tr>\n",
       "  </thead>\n",
       "  <tbody>\n",
       "    <tr>\n",
       "      <th>0</th>\n",
       "      <td>9</td>\n",
       "      <td>18526</td>\n",
       "      <td>1</td>\n",
       "      <td>10</td>\n",
       "      <td>1</td>\n",
       "      <td>1288374</td>\n",
       "      <td>1138224</td>\n",
       "      <td>3</td>\n",
       "      <td>238</td>\n",
       "      <td>16</td>\n",
       "      <td>16</td>\n",
       "      <td>1</td>\n",
       "    </tr>\n",
       "    <tr>\n",
       "      <th>1</th>\n",
       "      <td>8</td>\n",
       "      <td>18569</td>\n",
       "      <td>1</td>\n",
       "      <td>11</td>\n",
       "      <td>2</td>\n",
       "      <td>1086225</td>\n",
       "      <td>1015321</td>\n",
       "      <td>4</td>\n",
       "      <td>384</td>\n",
       "      <td>15</td>\n",
       "      <td>19</td>\n",
       "      <td>1</td>\n",
       "    </tr>\n",
       "    <tr>\n",
       "      <th>2</th>\n",
       "      <td>-2</td>\n",
       "      <td>12288</td>\n",
       "      <td>0</td>\n",
       "      <td>12</td>\n",
       "      <td>1</td>\n",
       "      <td>1595638</td>\n",
       "      <td>1281661</td>\n",
       "      <td>11</td>\n",
       "      <td>219</td>\n",
       "      <td>13</td>\n",
       "      <td>18</td>\n",
       "      <td>0</td>\n",
       "    </tr>\n",
       "    <tr>\n",
       "      <th>3</th>\n",
       "      <td>7</td>\n",
       "      <td>17092</td>\n",
       "      <td>0</td>\n",
       "      <td>14</td>\n",
       "      <td>0</td>\n",
       "      <td>1179395</td>\n",
       "      <td>1022959</td>\n",
       "      <td>5</td>\n",
       "      <td>261</td>\n",
       "      <td>15</td>\n",
       "      <td>12</td>\n",
       "      <td>0</td>\n",
       "    </tr>\n",
       "    <tr>\n",
       "      <th>4</th>\n",
       "      <td>7</td>\n",
       "      <td>11307</td>\n",
       "      <td>0</td>\n",
       "      <td>18</td>\n",
       "      <td>1</td>\n",
       "      <td>1398558</td>\n",
       "      <td>1085170</td>\n",
       "      <td>7</td>\n",
       "      <td>200</td>\n",
       "      <td>19</td>\n",
       "      <td>13</td>\n",
       "      <td>0</td>\n",
       "    </tr>\n",
       "  </tbody>\n",
       "</table>\n",
       "</div>"
      ],
      "text/plain": [
       "   Staff  Floor Space  Car park  Demographic score  Location  \\\n",
       "0      9        18526         1                 10         1   \n",
       "1      8        18569         1                 11         2   \n",
       "2     -2        12288         0                 12         1   \n",
       "3      7        17092         0                 14         0   \n",
       "4      7        11307         0                 18         1   \n",
       "\n",
       "   40min population  30 min population  Store age  Clearance space  \\\n",
       "0           1288374            1138224          3              238   \n",
       "1           1086225            1015321          4              384   \n",
       "2           1595638            1281661         11              219   \n",
       "3           1179395            1022959          5              261   \n",
       "4           1398558            1085170          7              200   \n",
       "\n",
       "   Competition number  Competition score  Performance  \n",
       "0                  16                 16            1  \n",
       "1                  15                 19            1  \n",
       "2                  13                 18            0  \n",
       "3                  15                 12            0  \n",
       "4                  19                 13            0  "
      ]
     },
     "execution_count": 129,
     "metadata": {},
     "output_type": "execute_result"
    }
   ],
   "source": [
    "data.head(5)"
   ]
  },
  {
   "cell_type": "markdown",
   "metadata": {},
   "source": [
    "# Data Preparation, Scaling and Spliting\n"
   ]
  },
  {
   "cell_type": "code",
   "execution_count": 133,
   "metadata": {},
   "outputs": [
    {
     "data": {
      "text/plain": [
       "((108, 11), (28, 11), (108,), (28,))"
      ]
     },
     "execution_count": 133,
     "metadata": {},
     "output_type": "execute_result"
    }
   ],
   "source": [
    "# Distinguish the feature and target set and divide the data set into training and test sets\n",
    "\n",
    "X = data.drop('Performance',axis='columns')\n",
    "y = data['Performance']\n",
    "\n",
    "\n",
    "# perform a robust scaler transform of the dataset\n",
    "trans = MinMaxScaler()\n",
    "X = trans.fit_transform(X)\n",
    "\n",
    "from sklearn.model_selection import train_test_split\n",
    "X_train, X_test, y_train, y_test = train_test_split(X,y,test_size=0.2,random_state=5)\n",
    "\n",
    "X_train.shape, X_test.shape, y_train.shape, y_test.shape"
   ]
  },
  {
   "cell_type": "markdown",
   "metadata": {},
   "source": [
    "Used MinMax Scaler to Normalize the value between [0,1]"
   ]
  },
  {
   "cell_type": "markdown",
   "metadata": {},
   "source": [
    "# Model Building"
   ]
  },
  {
   "cell_type": "markdown",
   "metadata": {},
   "source": [
    "Decision Tree Classifier"
   ]
  },
  {
   "cell_type": "code",
   "execution_count": 141,
   "metadata": {},
   "outputs": [],
   "source": [
    "# Creating the hyperparameter grid \n",
    "param_dist = {\"max_depth\": [3, None],\n",
    "              \"max_features\": range(1, 9),\n",
    "              \"min_samples_leaf\": range(1, 9),\n",
    "              \"criterion\": [\"gini\", \"entropy\"]}\n",
    "  \n",
    "# Instantiating Decision Tree classifier\n",
    "tree = DecisionTreeClassifier()"
   ]
  },
  {
   "cell_type": "code",
   "execution_count": 142,
   "metadata": {},
   "outputs": [
    {
     "data": {
      "text/plain": [
       "RandomizedSearchCV(cv=5, estimator=DecisionTreeClassifier(),\n",
       "                   param_distributions={'criterion': ['gini', 'entropy'],\n",
       "                                        'max_depth': [3, None],\n",
       "                                        'max_features': range(1, 9),\n",
       "                                        'min_samples_leaf': range(1, 9)})"
      ]
     },
     "execution_count": 142,
     "metadata": {},
     "output_type": "execute_result"
    }
   ],
   "source": [
    "# Instantiating RandomizedSearchCV object\n",
    "tree_cv = RandomizedSearchCV(tree, param_dist, cv = 5)\n",
    "  \n",
    "tree_cv.fit(X_train, y_train)\n",
    "  "
   ]
  },
  {
   "cell_type": "code",
   "execution_count": 143,
   "metadata": {},
   "outputs": [
    {
     "name": "stdout",
     "output_type": "stream",
     "text": [
      "Tuned Decision Tree Parameters: {'min_samples_leaf': 4, 'max_features': 6, 'max_depth': 3, 'criterion': 'entropy'}\n",
      "Best score is 0.6692640692640692\n"
     ]
    }
   ],
   "source": [
    "  # Print the tuned parameters and score\n",
    "print(\"Tuned Decision Tree Parameters: {}\".format(tree_cv.best_params_))\n",
    "print(\"Best score is {}\".format(tree_cv.best_score_))"
   ]
  },
  {
   "cell_type": "code",
   "execution_count": 144,
   "metadata": {},
   "outputs": [],
   "source": [
    "#Prediction using Test Dataste\n",
    "y_pred = tree_cv.predict(X_test)"
   ]
  },
  {
   "cell_type": "code",
   "execution_count": 145,
   "metadata": {},
   "outputs": [
    {
     "data": {
      "text/plain": [
       "0.6071428571428571"
      ]
     },
     "execution_count": 145,
     "metadata": {},
     "output_type": "execute_result"
    }
   ],
   "source": [
    "#Accuracy on the basis of predicted values with respective to true values\n",
    "dt_acc = accuracy_score(y_test,y_pred)\n",
    "dt_acc"
   ]
  },
  {
   "cell_type": "code",
   "execution_count": 146,
   "metadata": {},
   "outputs": [
    {
     "data": {
      "text/plain": [
       "Text(70.0, 0.5, 'Truth')"
      ]
     },
     "execution_count": 146,
     "metadata": {},
     "output_type": "execute_result"
    },
    {
     "data": {
      "image/png": "[encoded data removed]",
      "text/plain": [
       "<Figure size 720x504 with 2 Axes>"
      ]
     },
     "metadata": {
      "needs_background": "light"
     },
     "output_type": "display_data"
    }
   ],
   "source": [
    "# Confusion Matrix\n",
    "\n",
    "import seaborn as sn\n",
    "cm = confusion_matrix(y_test,y_pred)\n",
    "\n",
    "plt.figure(figsize = (10,7))\n",
    "sn.heatmap(cm, annot=True, fmt='d')\n",
    "plt.xlabel('Predicted')\n",
    "plt.ylabel('Truth')"
   ]
  },
  {
   "cell_type": "markdown",
   "metadata": {},
   "source": [
    "Logistic Regression"
   ]
  },
  {
   "cell_type": "code",
   "execution_count": 147,
   "metadata": {},
   "outputs": [],
   "source": [
    "# Fitting Logistic Regression\n",
    "\n",
    "LogReg = LogisticRegression()"
   ]
  },
  {
   "cell_type": "code",
   "execution_count": 148,
   "metadata": {},
   "outputs": [],
   "source": [
    "C = np.logspace(0, 4, num=10)\n",
    "penalty = ['l1', 'l2']\n",
    "solver = ['liblinear', 'saga']\n",
    "hyperparameters = dict(C=C, penalty=penalty, solver=solver)"
   ]
  },
  {
   "cell_type": "code",
   "execution_count": 150,
   "metadata": {},
   "outputs": [
    {
     "name": "stdout",
     "output_type": "stream",
     "text": [
      "LogisticRegression(C=10000.0, solver='liblinear')\n"
     ]
    },
    {
     "name": "stderr",
     "output_type": "stream",
     "text": [
      "C:\\Users\\Himanshu\\anaconda3\\lib\\site-packages\\sklearn\\linear_model\\_sag.py:330: ConvergenceWarning: The max_iter was reached which means the coef_ did not converge\n",
      "  \"the coef_ did not converge\", ConvergenceWarning)\n",
      "C:\\Users\\Himanshu\\anaconda3\\lib\\site-packages\\sklearn\\linear_model\\_sag.py:330: ConvergenceWarning: The max_iter was reached which means the coef_ did not converge\n",
      "  \"the coef_ did not converge\", ConvergenceWarning)\n",
      "C:\\Users\\Himanshu\\anaconda3\\lib\\site-packages\\sklearn\\linear_model\\_sag.py:330: ConvergenceWarning: The max_iter was reached which means the coef_ did not converge\n",
      "  \"the coef_ did not converge\", ConvergenceWarning)\n",
      "C:\\Users\\Himanshu\\anaconda3\\lib\\site-packages\\sklearn\\linear_model\\_sag.py:330: ConvergenceWarning: The max_iter was reached which means the coef_ did not converge\n",
      "  \"the coef_ did not converge\", ConvergenceWarning)\n",
      "C:\\Users\\Himanshu\\anaconda3\\lib\\site-packages\\sklearn\\linear_model\\_sag.py:330: ConvergenceWarning: The max_iter was reached which means the coef_ did not converge\n",
      "  \"the coef_ did not converge\", ConvergenceWarning)\n",
      "C:\\Users\\Himanshu\\anaconda3\\lib\\site-packages\\sklearn\\linear_model\\_sag.py:330: ConvergenceWarning: The max_iter was reached which means the coef_ did not converge\n",
      "  \"the coef_ did not converge\", ConvergenceWarning)\n",
      "C:\\Users\\Himanshu\\anaconda3\\lib\\site-packages\\sklearn\\linear_model\\_sag.py:330: ConvergenceWarning: The max_iter was reached which means the coef_ did not converge\n",
      "  \"the coef_ did not converge\", ConvergenceWarning)\n",
      "C:\\Users\\Himanshu\\anaconda3\\lib\\site-packages\\sklearn\\linear_model\\_sag.py:330: ConvergenceWarning: The max_iter was reached which means the coef_ did not converge\n",
      "  \"the coef_ did not converge\", ConvergenceWarning)\n",
      "C:\\Users\\Himanshu\\anaconda3\\lib\\site-packages\\sklearn\\linear_model\\_sag.py:330: ConvergenceWarning: The max_iter was reached which means the coef_ did not converge\n",
      "  \"the coef_ did not converge\", ConvergenceWarning)\n",
      "C:\\Users\\Himanshu\\anaconda3\\lib\\site-packages\\sklearn\\linear_model\\_sag.py:330: ConvergenceWarning: The max_iter was reached which means the coef_ did not converge\n",
      "  \"the coef_ did not converge\", ConvergenceWarning)\n",
      "C:\\Users\\Himanshu\\anaconda3\\lib\\site-packages\\sklearn\\linear_model\\_sag.py:330: ConvergenceWarning: The max_iter was reached which means the coef_ did not converge\n",
      "  \"the coef_ did not converge\", ConvergenceWarning)\n",
      "C:\\Users\\Himanshu\\anaconda3\\lib\\site-packages\\sklearn\\linear_model\\_sag.py:330: ConvergenceWarning: The max_iter was reached which means the coef_ did not converge\n",
      "  \"the coef_ did not converge\", ConvergenceWarning)\n",
      "C:\\Users\\Himanshu\\anaconda3\\lib\\site-packages\\sklearn\\linear_model\\_sag.py:330: ConvergenceWarning: The max_iter was reached which means the coef_ did not converge\n",
      "  \"the coef_ did not converge\", ConvergenceWarning)\n",
      "C:\\Users\\Himanshu\\anaconda3\\lib\\site-packages\\sklearn\\linear_model\\_sag.py:330: ConvergenceWarning: The max_iter was reached which means the coef_ did not converge\n",
      "  \"the coef_ did not converge\", ConvergenceWarning)\n",
      "C:\\Users\\Himanshu\\anaconda3\\lib\\site-packages\\sklearn\\linear_model\\_sag.py:330: ConvergenceWarning: The max_iter was reached which means the coef_ did not converge\n",
      "  \"the coef_ did not converge\", ConvergenceWarning)\n",
      "C:\\Users\\Himanshu\\anaconda3\\lib\\site-packages\\sklearn\\linear_model\\_sag.py:330: ConvergenceWarning: The max_iter was reached which means the coef_ did not converge\n",
      "  \"the coef_ did not converge\", ConvergenceWarning)\n",
      "C:\\Users\\Himanshu\\anaconda3\\lib\\site-packages\\sklearn\\linear_model\\_sag.py:330: ConvergenceWarning: The max_iter was reached which means the coef_ did not converge\n",
      "  \"the coef_ did not converge\", ConvergenceWarning)\n",
      "C:\\Users\\Himanshu\\anaconda3\\lib\\site-packages\\sklearn\\linear_model\\_sag.py:330: ConvergenceWarning: The max_iter was reached which means the coef_ did not converge\n",
      "  \"the coef_ did not converge\", ConvergenceWarning)\n",
      "C:\\Users\\Himanshu\\anaconda3\\lib\\site-packages\\sklearn\\linear_model\\_sag.py:330: ConvergenceWarning: The max_iter was reached which means the coef_ did not converge\n",
      "  \"the coef_ did not converge\", ConvergenceWarning)\n",
      "C:\\Users\\Himanshu\\anaconda3\\lib\\site-packages\\sklearn\\linear_model\\_sag.py:330: ConvergenceWarning: The max_iter was reached which means the coef_ did not converge\n",
      "  \"the coef_ did not converge\", ConvergenceWarning)\n",
      "C:\\Users\\Himanshu\\anaconda3\\lib\\site-packages\\sklearn\\linear_model\\_sag.py:330: ConvergenceWarning: The max_iter was reached which means the coef_ did not converge\n",
      "  \"the coef_ did not converge\", ConvergenceWarning)\n"
     ]
    }
   ],
   "source": [
    "randomizedsearch = RandomizedSearchCV(LogReg, hyperparameters)\n",
    "best_model_random = randomizedsearch.fit(X_train, y_train)\n",
    "print(best_model_random.best_estimator_)"
   ]
  },
  {
   "cell_type": "code",
   "execution_count": 151,
   "metadata": {},
   "outputs": [],
   "source": [
    "#Predict values based on new parameters\n",
    "y_pred_lr = randomizedsearch.predict(X_test)"
   ]
  },
  {
   "cell_type": "code",
   "execution_count": 152,
   "metadata": {},
   "outputs": [
    {
     "data": {
      "text/plain": [
       "0.8214285714285714"
      ]
     },
     "execution_count": 152,
     "metadata": {},
     "output_type": "execute_result"
    }
   ],
   "source": [
    "# New Model Evaluation metrics \n",
    "lr_acc = accuracy_score(y_test, y_pred_lr)\n",
    "lr_acc"
   ]
  },
  {
   "cell_type": "code",
   "execution_count": 153,
   "metadata": {},
   "outputs": [
    {
     "data": {
      "text/plain": [
       "Text(70.0, 0.5, 'Truth')"
      ]
     },
     "execution_count": 153,
     "metadata": {},
     "output_type": "execute_result"
    },
    {
     "data": {
      "image/png": "[encoded data removed]",
      "text/plain": [
       "<Figure size 720x504 with 2 Axes>"
      ]
     },
     "metadata": {
      "needs_background": "light"
     },
     "output_type": "display_data"
    }
   ],
   "source": [
    "# Confusion Matrix\n",
    "\n",
    "import seaborn as sn\n",
    "cm = confusion_matrix(y_test,y_pred_lr)\n",
    "\n",
    "plt.figure(figsize = (10,7))\n",
    "sn.heatmap(cm, annot=True, fmt='d')\n",
    "plt.xlabel('Predicted')\n",
    "plt.ylabel('Truth')"
   ]
  },
  {
   "cell_type": "markdown",
   "metadata": {},
   "source": [
    "### Using Artificial Neural Network technique"
   ]
  },
  {
   "cell_type": "code",
   "execution_count": 154,
   "metadata": {},
   "outputs": [
    {
     "name": "stderr",
     "output_type": "stream",
     "text": [
      "Using TensorFlow backend.\n",
      "C:\\Users\\Himanshu\\anaconda3\\lib\\site-packages\\tensorflow\\python\\framework\\dtypes.py:516: FutureWarning: Passing (type, 1) or '1type' as a synonym of type is deprecated; in a future version of numpy, it will be understood as (type, (1,)) / '(1,)type'.\n",
      "  _np_qint8 = np.dtype([(\"qint8\", np.int8, 1)])\n",
      "C:\\Users\\Himanshu\\anaconda3\\lib\\site-packages\\tensorflow\\python\\framework\\dtypes.py:517: FutureWarning: Passing (type, 1) or '1type' as a synonym of type is deprecated; in a future version of numpy, it will be understood as (type, (1,)) / '(1,)type'.\n",
      "  _np_quint8 = np.dtype([(\"quint8\", np.uint8, 1)])\n",
      "C:\\Users\\Himanshu\\anaconda3\\lib\\site-packages\\tensorflow\\python\\framework\\dtypes.py:518: FutureWarning: Passing (type, 1) or '1type' as a synonym of type is deprecated; in a future version of numpy, it will be understood as (type, (1,)) / '(1,)type'.\n",
      "  _np_qint16 = np.dtype([(\"qint16\", np.int16, 1)])\n",
      "C:\\Users\\Himanshu\\anaconda3\\lib\\site-packages\\tensorflow\\python\\framework\\dtypes.py:519: FutureWarning: Passing (type, 1) or '1type' as a synonym of type is deprecated; in a future version of numpy, it will be understood as (type, (1,)) / '(1,)type'.\n",
      "  _np_quint16 = np.dtype([(\"quint16\", np.uint16, 1)])\n",
      "C:\\Users\\Himanshu\\anaconda3\\lib\\site-packages\\tensorflow\\python\\framework\\dtypes.py:520: FutureWarning: Passing (type, 1) or '1type' as a synonym of type is deprecated; in a future version of numpy, it will be understood as (type, (1,)) / '(1,)type'.\n",
      "  _np_qint32 = np.dtype([(\"qint32\", np.int32, 1)])\n",
      "C:\\Users\\Himanshu\\anaconda3\\lib\\site-packages\\tensorflow\\python\\framework\\dtypes.py:525: FutureWarning: Passing (type, 1) or '1type' as a synonym of type is deprecated; in a future version of numpy, it will be understood as (type, (1,)) / '(1,)type'.\n",
      "  np_resource = np.dtype([(\"resource\", np.ubyte, 1)])\n",
      "C:\\Users\\Himanshu\\anaconda3\\lib\\site-packages\\requests\\__init__.py:91: RequestsDependencyWarning: urllib3 (1.26.3) or chardet (3.0.4) doesn't match a supported version!\n",
      "  RequestsDependencyWarning)\n",
      "C:\\Users\\Himanshu\\anaconda3\\lib\\site-packages\\tensorboard\\compat\\tensorflow_stub\\dtypes.py:541: FutureWarning: Passing (type, 1) or '1type' as a synonym of type is deprecated; in a future version of numpy, it will be understood as (type, (1,)) / '(1,)type'.\n",
      "  _np_qint8 = np.dtype([(\"qint8\", np.int8, 1)])\n",
      "C:\\Users\\Himanshu\\anaconda3\\lib\\site-packages\\tensorboard\\compat\\tensorflow_stub\\dtypes.py:542: FutureWarning: Passing (type, 1) or '1type' as a synonym of type is deprecated; in a future version of numpy, it will be understood as (type, (1,)) / '(1,)type'.\n",
      "  _np_quint8 = np.dtype([(\"quint8\", np.uint8, 1)])\n",
      "C:\\Users\\Himanshu\\anaconda3\\lib\\site-packages\\tensorboard\\compat\\tensorflow_stub\\dtypes.py:543: FutureWarning: Passing (type, 1) or '1type' as a synonym of type is deprecated; in a future version of numpy, it will be understood as (type, (1,)) / '(1,)type'.\n",
      "  _np_qint16 = np.dtype([(\"qint16\", np.int16, 1)])\n",
      "C:\\Users\\Himanshu\\anaconda3\\lib\\site-packages\\tensorboard\\compat\\tensorflow_stub\\dtypes.py:544: FutureWarning: Passing (type, 1) or '1type' as a synonym of type is deprecated; in a future version of numpy, it will be understood as (type, (1,)) / '(1,)type'.\n",
      "  _np_quint16 = np.dtype([(\"quint16\", np.uint16, 1)])\n",
      "C:\\Users\\Himanshu\\anaconda3\\lib\\site-packages\\tensorboard\\compat\\tensorflow_stub\\dtypes.py:545: FutureWarning: Passing (type, 1) or '1type' as a synonym of type is deprecated; in a future version of numpy, it will be understood as (type, (1,)) / '(1,)type'.\n",
      "  _np_qint32 = np.dtype([(\"qint32\", np.int32, 1)])\n",
      "C:\\Users\\Himanshu\\anaconda3\\lib\\site-packages\\tensorboard\\compat\\tensorflow_stub\\dtypes.py:550: FutureWarning: Passing (type, 1) or '1type' as a synonym of type is deprecated; in a future version of numpy, it will be understood as (type, (1,)) / '(1,)type'.\n",
      "  np_resource = np.dtype([(\"resource\", np.ubyte, 1)])\n"
     ]
    }
   ],
   "source": [
    "from keras.models import Sequential\n",
    "from keras.layers import Dense"
   ]
  },
  {
   "cell_type": "code",
   "execution_count": 156,
   "metadata": {},
   "outputs": [
    {
     "name": "stdout",
     "output_type": "stream",
     "text": [
      "WARNING:tensorflow:From C:\\Users\\Himanshu\\anaconda3\\lib\\site-packages\\keras\\backend\\tensorflow_backend.py:68: The name tf.get_default_graph is deprecated. Please use tf.compat.v1.get_default_graph instead.\n",
      "\n",
      "WARNING:tensorflow:From C:\\Users\\Himanshu\\anaconda3\\lib\\site-packages\\keras\\backend\\tensorflow_backend.py:507: The name tf.placeholder is deprecated. Please use tf.compat.v1.placeholder instead.\n",
      "\n",
      "WARNING:tensorflow:From C:\\Users\\Himanshu\\anaconda3\\lib\\site-packages\\keras\\backend\\tensorflow_backend.py:3831: The name tf.random_uniform is deprecated. Please use tf.random.uniform instead.\n",
      "\n",
      "WARNING:tensorflow:From C:\\Users\\Himanshu\\anaconda3\\lib\\site-packages\\keras\\optimizers.py:757: The name tf.train.Optimizer is deprecated. Please use tf.compat.v1.train.Optimizer instead.\n",
      "\n",
      "WARNING:tensorflow:From C:\\Users\\Himanshu\\anaconda3\\lib\\site-packages\\keras\\backend\\tensorflow_backend.py:3069: The name tf.log is deprecated. Please use tf.math.log instead.\n",
      "\n",
      "WARNING:tensorflow:From C:\\Users\\Himanshu\\anaconda3\\lib\\site-packages\\tensorflow\\python\\ops\\nn_impl.py:180: add_dispatch_support.<locals>.wrapper (from tensorflow.python.ops.array_ops) is deprecated and will be removed in a future version.\n",
      "Instructions for updating:\n",
      "Use tf.where in 2.0, which has the same broadcast rule as np.where\n",
      "WARNING:tensorflow:From C:\\Users\\Himanshu\\anaconda3\\lib\\site-packages\\keras\\backend\\tensorflow_backend.py:976: The name tf.assign_add is deprecated. Please use tf.compat.v1.assign_add instead.\n",
      "\n",
      "Epoch 1/100\n",
      "108/108 [==============================] - 0s 4ms/step - loss: 0.6878 - acc: 0.5463\n",
      "Epoch 2/100\n",
      "108/108 [==============================] - 0s 120us/step - loss: 0.6764 - acc: 0.5648\n",
      "Epoch 3/100\n",
      "108/108 [==============================] - 0s 102us/step - loss: 0.6709 - acc: 0.5833\n",
      "Epoch 4/100\n",
      "108/108 [==============================] - 0s 120us/step - loss: 0.6659 - acc: 0.5741\n",
      "Epoch 5/100\n",
      "108/108 [==============================] - 0s 148us/step - loss: 0.6620 - acc: 0.5926\n",
      "Epoch 6/100\n",
      "108/108 [==============================] - 0s 111us/step - loss: 0.6603 - acc: 0.5926\n",
      "Epoch 7/100\n",
      "108/108 [==============================] - 0s 120us/step - loss: 0.6559 - acc: 0.6019\n",
      "Epoch 8/100\n",
      "108/108 [==============================] - 0s 129us/step - loss: 0.6522 - acc: 0.5833\n",
      "Epoch 9/100\n",
      "108/108 [==============================] - 0s 148us/step - loss: 0.6490 - acc: 0.6296\n",
      "Epoch 10/100\n",
      "108/108 [==============================] - 0s 102us/step - loss: 0.6464 - acc: 0.6296\n",
      "Epoch 11/100\n",
      "108/108 [==============================] - 0s 120us/step - loss: 0.6432 - acc: 0.6019\n",
      "Epoch 12/100\n",
      "108/108 [==============================] - 0s 120us/step - loss: 0.6392 - acc: 0.6111\n",
      "Epoch 13/100\n",
      "108/108 [==============================] - 0s 83us/step - loss: 0.6356 - acc: 0.6296\n",
      "Epoch 14/100\n",
      "108/108 [==============================] - 0s 102us/step - loss: 0.6321 - acc: 0.6296\n",
      "Epoch 15/100\n",
      "108/108 [==============================] - 0s 92us/step - loss: 0.6312 - acc: 0.6019\n",
      "Epoch 16/100\n",
      "108/108 [==============================] - 0s 129us/step - loss: 0.6269 - acc: 0.6296\n",
      "Epoch 17/100\n",
      "108/108 [==============================] - 0s 120us/step - loss: 0.6245 - acc: 0.6111\n",
      "Epoch 18/100\n",
      "108/108 [==============================] - 0s 111us/step - loss: 0.6228 - acc: 0.6481\n",
      "Epoch 19/100\n",
      "108/108 [==============================] - 0s 111us/step - loss: 0.6195 - acc: 0.6481\n",
      "Epoch 20/100\n",
      "108/108 [==============================] - 0s 102us/step - loss: 0.6167 - acc: 0.6759\n",
      "Epoch 21/100\n",
      "108/108 [==============================] - 0s 92us/step - loss: 0.6144 - acc: 0.6852\n",
      "Epoch 22/100\n",
      "108/108 [==============================] - 0s 111us/step - loss: 0.6121 - acc: 0.6759\n",
      "Epoch 23/100\n",
      "108/108 [==============================] - 0s 120us/step - loss: 0.6094 - acc: 0.6852\n",
      "Epoch 24/100\n",
      "108/108 [==============================] - 0s 111us/step - loss: 0.6069 - acc: 0.6852\n",
      "Epoch 25/100\n",
      "108/108 [==============================] - 0s 102us/step - loss: 0.6046 - acc: 0.6759\n",
      "Epoch 26/100\n",
      "108/108 [==============================] - 0s 129us/step - loss: 0.6014 - acc: 0.6759\n",
      "Epoch 27/100\n",
      "108/108 [==============================] - 0s 120us/step - loss: 0.6021 - acc: 0.6759\n",
      "Epoch 28/100\n",
      "108/108 [==============================] - 0s 139us/step - loss: 0.5970 - acc: 0.6481\n",
      "Epoch 29/100\n",
      "108/108 [==============================] - 0s 120us/step - loss: 0.5946 - acc: 0.6574\n",
      "Epoch 30/100\n",
      "108/108 [==============================] - 0s 92us/step - loss: 0.5917 - acc: 0.6574\n",
      "Epoch 31/100\n",
      "108/108 [==============================] - ETA: 0s - loss: 0.5495 - acc: 0.750 - 0s 120us/step - loss: 0.5900 - acc: 0.6481\n",
      "Epoch 32/100\n",
      "108/108 [==============================] - 0s 139us/step - loss: 0.5876 - acc: 0.6481\n",
      "Epoch 33/100\n",
      "108/108 [==============================] - 0s 102us/step - loss: 0.5869 - acc: 0.6759\n",
      "Epoch 34/100\n",
      "108/108 [==============================] - 0s 111us/step - loss: 0.5842 - acc: 0.6481\n",
      "Epoch 35/100\n",
      "108/108 [==============================] - 0s 129us/step - loss: 0.5818 - acc: 0.6667\n",
      "Epoch 36/100\n",
      "108/108 [==============================] - 0s 92us/step - loss: 0.5786 - acc: 0.6759\n",
      "Epoch 37/100\n",
      "108/108 [==============================] - 0s 120us/step - loss: 0.5764 - acc: 0.6481\n",
      "Epoch 38/100\n",
      "108/108 [==============================] - 0s 120us/step - loss: 0.5744 - acc: 0.6574\n",
      "Epoch 39/100\n",
      "108/108 [==============================] - 0s 92us/step - loss: 0.5719 - acc: 0.6481\n",
      "Epoch 40/100\n",
      "108/108 [==============================] - 0s 111us/step - loss: 0.5698 - acc: 0.6296\n",
      "Epoch 41/100\n",
      "108/108 [==============================] - 0s 102us/step - loss: 0.5706 - acc: 0.6667\n",
      "Epoch 42/100\n",
      "108/108 [==============================] - 0s 120us/step - loss: 0.5651 - acc: 0.6481\n",
      "Epoch 43/100\n",
      "108/108 [==============================] - 0s 111us/step - loss: 0.5642 - acc: 0.6481\n",
      "Epoch 44/100\n",
      "108/108 [==============================] - 0s 111us/step - loss: 0.5630 - acc: 0.6389\n",
      "Epoch 45/100\n",
      "108/108 [==============================] - 0s 120us/step - loss: 0.5604 - acc: 0.6481\n",
      "Epoch 46/100\n",
      "108/108 [==============================] - 0s 92us/step - loss: 0.5589 - acc: 0.6481\n",
      "Epoch 47/100\n",
      "108/108 [==============================] - 0s 102us/step - loss: 0.5568 - acc: 0.6389\n",
      "Epoch 48/100\n",
      "108/108 [==============================] - 0s 157us/step - loss: 0.5550 - acc: 0.6574\n",
      "Epoch 49/100\n",
      "108/108 [==============================] - 0s 120us/step - loss: 0.5539 - acc: 0.6759\n",
      "Epoch 50/100\n",
      "108/108 [==============================] - 0s 102us/step - loss: 0.5514 - acc: 0.6852\n",
      "Epoch 51/100\n",
      "108/108 [==============================] - 0s 157us/step - loss: 0.5498 - acc: 0.6759\n",
      "Epoch 52/100\n",
      "108/108 [==============================] - 0s 111us/step - loss: 0.5481 - acc: 0.6667\n",
      "Epoch 53/100\n",
      "108/108 [==============================] - 0s 111us/step - loss: 0.5476 - acc: 0.6759\n",
      "Epoch 54/100\n",
      "108/108 [==============================] - 0s 111us/step - loss: 0.5462 - acc: 0.6944\n",
      "Epoch 55/100\n",
      "108/108 [==============================] - 0s 102us/step - loss: 0.5425 - acc: 0.6852\n",
      "Epoch 56/100\n",
      "108/108 [==============================] - 0s 120us/step - loss: 0.5429 - acc: 0.6852\n",
      "Epoch 57/100\n",
      "108/108 [==============================] - 0s 120us/step - loss: 0.5388 - acc: 0.6852\n",
      "Epoch 58/100\n",
      "108/108 [==============================] - 0s 111us/step - loss: 0.5373 - acc: 0.6944\n",
      "Epoch 59/100\n",
      "108/108 [==============================] - 0s 111us/step - loss: 0.5363 - acc: 0.7037\n",
      "Epoch 60/100\n",
      "108/108 [==============================] - 0s 111us/step - loss: 0.5349 - acc: 0.7130\n",
      "Epoch 61/100\n",
      "108/108 [==============================] - 0s 92us/step - loss: 0.5317 - acc: 0.6944\n",
      "Epoch 62/100\n",
      "108/108 [==============================] - 0s 129us/step - loss: 0.5304 - acc: 0.7037\n",
      "Epoch 63/100\n",
      "108/108 [==============================] - 0s 102us/step - loss: 0.5291 - acc: 0.6852\n",
      "Epoch 64/100\n",
      "108/108 [==============================] - 0s 111us/step - loss: 0.5289 - acc: 0.6852\n",
      "Epoch 65/100\n",
      "108/108 [==============================] - 0s 111us/step - loss: 0.5269 - acc: 0.6944\n",
      "Epoch 66/100\n",
      "108/108 [==============================] - 0s 111us/step - loss: 0.5247 - acc: 0.6759\n",
      "Epoch 67/100\n",
      "108/108 [==============================] - 0s 102us/step - loss: 0.5221 - acc: 0.7222\n",
      "Epoch 68/100\n",
      "108/108 [==============================] - 0s 102us/step - loss: 0.5219 - acc: 0.7222\n",
      "Epoch 69/100\n",
      "108/108 [==============================] - 0s 111us/step - loss: 0.5207 - acc: 0.7407\n",
      "Epoch 70/100\n",
      "108/108 [==============================] - 0s 111us/step - loss: 0.5172 - acc: 0.7222\n",
      "Epoch 71/100\n",
      "108/108 [==============================] - 0s 129us/step - loss: 0.5177 - acc: 0.7407\n",
      "Epoch 72/100\n",
      "108/108 [==============================] - 0s 120us/step - loss: 0.5136 - acc: 0.7222\n",
      "Epoch 73/100\n",
      "108/108 [==============================] - 0s 102us/step - loss: 0.5136 - acc: 0.7222\n",
      "Epoch 74/100\n",
      "108/108 [==============================] - 0s 129us/step - loss: 0.5145 - acc: 0.6944\n",
      "Epoch 75/100\n",
      "108/108 [==============================] - 0s 102us/step - loss: 0.5113 - acc: 0.7315\n",
      "Epoch 76/100\n",
      "108/108 [==============================] - 0s 92us/step - loss: 0.5095 - acc: 0.7130\n",
      "Epoch 77/100\n",
      "108/108 [==============================] - 0s 111us/step - loss: 0.5072 - acc: 0.7500\n",
      "Epoch 78/100\n",
      "108/108 [==============================] - 0s 111us/step - loss: 0.5071 - acc: 0.7130\n",
      "Epoch 79/100\n",
      "108/108 [==============================] - 0s 92us/step - loss: 0.5046 - acc: 0.7407\n",
      "Epoch 80/100\n",
      "108/108 [==============================] - 0s 92us/step - loss: 0.5040 - acc: 0.7407\n",
      "Epoch 81/100\n",
      "108/108 [==============================] - 0s 111us/step - loss: 0.5040 - acc: 0.7778\n",
      "Epoch 82/100\n",
      "108/108 [==============================] - 0s 111us/step - loss: 0.5013 - acc: 0.7593\n",
      "Epoch 83/100\n",
      "108/108 [==============================] - 0s 83us/step - loss: 0.5009 - acc: 0.7500\n",
      "Epoch 84/100\n",
      "108/108 [==============================] - 0s 92us/step - loss: 0.5020 - acc: 0.7593\n",
      "Epoch 85/100\n",
      "108/108 [==============================] - 0s 102us/step - loss: 0.4993 - acc: 0.7593\n",
      "Epoch 86/100\n",
      "108/108 [==============================] - 0s 92us/step - loss: 0.4960 - acc: 0.7593\n",
      "Epoch 87/100\n",
      "108/108 [==============================] - 0s 102us/step - loss: 0.4962 - acc: 0.7593\n",
      "Epoch 88/100\n",
      "108/108 [==============================] - 0s 102us/step - loss: 0.4947 - acc: 0.7593\n",
      "Epoch 89/100\n",
      "108/108 [==============================] - 0s 111us/step - loss: 0.4933 - acc: 0.7407\n",
      "Epoch 90/100\n",
      "108/108 [==============================] - 0s 102us/step - loss: 0.4937 - acc: 0.7778\n",
      "Epoch 91/100\n",
      "108/108 [==============================] - 0s 102us/step - loss: 0.4916 - acc: 0.7685\n",
      "Epoch 92/100\n",
      "108/108 [==============================] - 0s 102us/step - loss: 0.4905 - acc: 0.7407\n",
      "Epoch 93/100\n",
      "108/108 [==============================] - 0s 120us/step - loss: 0.4897 - acc: 0.7685\n",
      "Epoch 94/100\n",
      "108/108 [==============================] - 0s 120us/step - loss: 0.4888 - acc: 0.7685\n",
      "Epoch 95/100\n",
      "108/108 [==============================] - 0s 102us/step - loss: 0.4868 - acc: 0.7778\n",
      "Epoch 96/100\n",
      "108/108 [==============================] - 0s 92us/step - loss: 0.4852 - acc: 0.7593\n",
      "Epoch 97/100\n",
      "108/108 [==============================] - 0s 102us/step - loss: 0.4838 - acc: 0.7593\n",
      "Epoch 98/100\n",
      "108/108 [==============================] - 0s 120us/step - loss: 0.4840 - acc: 0.7685\n",
      "Epoch 99/100\n",
      "108/108 [==============================] - 0s 129us/step - loss: 0.4848 - acc: 0.7778\n",
      "Epoch 100/100\n",
      "108/108 [==============================] - 0s 129us/step - loss: 0.4805 - acc: 0.7685\n"
     ]
    },
    {
     "data": {
      "text/plain": [
       "<keras.callbacks.History at 0x276210f2508>"
      ]
     },
     "execution_count": 156,
     "metadata": {},
     "output_type": "execute_result"
    }
   ],
   "source": [
    "# creating the model\n",
    "model = Sequential()\n",
    "\n",
    "from keras.layers import Dropout\n",
    "\n",
    "# first hidden layer\n",
    "model.add(Dense(11,activation = 'relu', input_dim = 11))\n",
    "#model.add(Dropout(0.1))\n",
    "\n",
    "# second hidden layer\n",
    "model.add(Dense(8, activation = 'relu'))\n",
    "#model.add(Dropout(0.1))\n",
    "\n",
    "# output layer\n",
    "model.add(Dense(1,activation = 'sigmoid'))\n",
    "\n",
    "# Compiling the NN\n",
    "# binary_crossentropy loss function used when a binary output is expected\n",
    "model.compile(optimizer = 'RMSprop', loss = 'binary_crossentropy', metrics = ['accuracy']) \n",
    "\n",
    "model.fit(X_train, y_train, batch_size = 20, epochs = 100)"
   ]
  },
  {
   "cell_type": "code",
   "execution_count": 157,
   "metadata": {},
   "outputs": [
    {
     "name": "stdout",
     "output_type": "stream",
     "text": [
      "28/28 [==============================] - 0s 7ms/step\n"
     ]
    },
    {
     "data": {
      "text/plain": [
       "[0.5229002237319946, 0.75]"
      ]
     },
     "execution_count": 157,
     "metadata": {},
     "output_type": "execute_result"
    }
   ],
   "source": [
    "model.evaluate(X_test, y_test)"
   ]
  },
  {
   "cell_type": "code",
   "execution_count": 159,
   "metadata": {},
   "outputs": [
    {
     "data": {
      "text/plain": [
       "array([[0.30315435],\n",
       "       [0.56977254],\n",
       "       [0.848286  ],\n",
       "       [0.40419352],\n",
       "       [0.94628197],\n",
       "       [0.6620076 ],\n",
       "       [0.59169006],\n",
       "       [0.9291948 ],\n",
       "       [0.80335796],\n",
       "       [0.2152181 ]], dtype=float32)"
      ]
     },
     "execution_count": 159,
     "metadata": {},
     "output_type": "execute_result"
    }
   ],
   "source": [
    "# Manually verifying some predictions\n",
    "yp = model.predict(X_test)\n",
    "yp[:10]"
   ]
  },
  {
   "cell_type": "code",
   "execution_count": 160,
   "metadata": {},
   "outputs": [
    {
     "data": {
      "text/plain": [
       "[0, 1, 1, 0, 1, 1, 1, 1, 1, 0]"
      ]
     },
     "execution_count": 160,
     "metadata": {},
     "output_type": "execute_result"
    }
   ],
   "source": [
    "y_pred = []\n",
    "for element in yp:\n",
    "    if element > 0.5:\n",
    "        y_pred.append(1)\n",
    "    else:\n",
    "        y_pred.append(0)\n",
    "y_pred[:10]"
   ]
  },
  {
   "cell_type": "code",
   "execution_count": 161,
   "metadata": {},
   "outputs": [
    {
     "data": {
      "text/plain": [
       "0.75"
      ]
     },
     "execution_count": 161,
     "metadata": {},
     "output_type": "execute_result"
    }
   ],
   "source": [
    "ann_acc = accuracy_score(y_test,y_pred)\n",
    "ann_acc"
   ]
  },
  {
   "cell_type": "code",
   "execution_count": 162,
   "metadata": {},
   "outputs": [
    {
     "data": {
      "text/plain": [
       "Text(70.0, 0.5, 'Truth')"
      ]
     },
     "execution_count": 162,
     "metadata": {},
     "output_type": "execute_result"
    },
    {
     "data": {
      "image/png": "[encoded data removed]",
      "text/plain": [
       "<Figure size 720x504 with 2 Axes>"
      ]
     },
     "metadata": {
      "needs_background": "light"
     },
     "output_type": "display_data"
    }
   ],
   "source": [
    "# Confusion Matrix\n",
    "\n",
    "import seaborn as sn\n",
    "cm = confusion_matrix(y_test,y_pred)\n",
    "\n",
    "plt.figure(figsize = (10,7))\n",
    "sn.heatmap(cm, annot=True, fmt='d')\n",
    "plt.xlabel('Predicted')\n",
    "plt.ylabel('Truth')"
   ]
  },
  {
   "cell_type": "markdown",
   "metadata": {},
   "source": [
    "# Displaying the Result of All the three classifier Used."
   ]
  },
  {
   "cell_type": "code",
   "execution_count": 163,
   "metadata": {},
   "outputs": [],
   "source": [
    "#Getting accuracy and log loss for each model\n",
    "model_data = pd.DataFrame({'Classifiers' : ['LogisticRegression', 'DecisionTreeClassifier', 'ArtificialNeuralNetwork'],\n",
    "                        'Accuracy %' : [lr_acc,dt_acc,ann_acc]})"
   ]
  },
  {
   "cell_type": "code",
   "execution_count": 164,
   "metadata": {},
   "outputs": [],
   "source": [
    "model_data['Accuracy %'] = model_data['Accuracy %'].apply(lambda x : round((x*100),2))"
   ]
  },
  {
   "cell_type": "code",
   "execution_count": 165,
   "metadata": {},
   "outputs": [
    {
     "data": {
      "text/html": [
       "<div>\n",
       "<style scoped>\n",
       "    .dataframe tbody tr th:only-of-type {\n",
       "        vertical-align: middle;\n",
       "    }\n",
       "\n",
       "    .dataframe tbody tr th {\n",
       "        vertical-align: top;\n",
       "    }\n",
       "\n",
       "    .dataframe thead th {\n",
       "        text-align: right;\n",
       "    }\n",
       "</style>\n",
       "<table border=\"1\" class=\"dataframe\">\n",
       "  <thead>\n",
       "    <tr style=\"text-align: right;\">\n",
       "      <th></th>\n",
       "      <th>Classifiers</th>\n",
       "      <th>Accuracy %</th>\n",
       "    </tr>\n",
       "  </thead>\n",
       "  <tbody>\n",
       "    <tr>\n",
       "      <th>0</th>\n",
       "      <td>LogisticRegression</td>\n",
       "      <td>82.14</td>\n",
       "    </tr>\n",
       "    <tr>\n",
       "      <th>1</th>\n",
       "      <td>DecisionTreeClassifier</td>\n",
       "      <td>60.71</td>\n",
       "    </tr>\n",
       "    <tr>\n",
       "      <th>2</th>\n",
       "      <td>ArtificialNeuralNetwork</td>\n",
       "      <td>75.00</td>\n",
       "    </tr>\n",
       "  </tbody>\n",
       "</table>\n",
       "</div>"
      ],
      "text/plain": [
       "               Classifiers  Accuracy %\n",
       "0       LogisticRegression       82.14\n",
       "1   DecisionTreeClassifier       60.71\n",
       "2  ArtificialNeuralNetwork       75.00"
      ]
     },
     "execution_count": 165,
     "metadata": {},
     "output_type": "execute_result"
    }
   ],
   "source": [
    "model_data"
   ]
  },
  {
   "cell_type": "code",
   "execution_count": 166,
   "metadata": {},
   "outputs": [
    {
     "data": {
      "image/png": "[encoded data removed]",
      "text/plain": [
       "<Figure size 432x288 with 1 Axes>"
      ]
     },
     "metadata": {
      "needs_background": "light"
     },
     "output_type": "display_data"
    }
   ],
   "source": [
    "#Visualizing the accuracy and log loss of each model\n",
    "sns.barplot(data = model_data, x = model_data['Accuracy %'], y = model_data.Classifiers)\n",
    "plt.title('Model Accuracy')\n",
    "plt.show()"
   ]
  },
  {
   "cell_type": "markdown",
   "metadata": {},
   "source": [
    "From above Results we can say that Logistic Regression works well as it gains an accuracy score of 82.14% and rest algorithms Decision Tree Classifier attains an accuracy score of 60.71% and Artificial Neural Network attains an accuarcy of 75%."
   ]
  },
  {
   "cell_type": "code",
   "execution_count": null,
   "metadata": {},
   "outputs": [],
   "source": []
  }
 ],
 "metadata": {
  "kernelspec": {
   "display_name": "Python 3",
   "language": "python",
   "name": "python3"
  },
  "language_info": {
   "codemirror_mode": {
    "name": "ipython",
    "version": 3
   },
   "file_extension": ".py",
   "mimetype": "text/x-python",
   "name": "python",
   "nbconvert_exporter": "python",
   "pygments_lexer": "ipython3",
   "version": "3.7.4"
  }
 },
 "nbformat": 4,
 "nbformat_minor": 4
}
